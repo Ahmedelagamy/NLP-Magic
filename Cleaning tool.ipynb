{
 "cells": [
  {
   "cell_type": "code",
   "execution_count": 35,
   "id": "a102b867",
   "metadata": {},
   "outputs": [],
   "source": [
    "import spacy\n",
    "import pandas as pd\n",
    "import numpy as np\n",
    "import nltk\n",
    "from nltk.tokenize.toktok import ToktokTokenizer\n",
    "import re\n",
    "from bs4 import BeautifulSoup\n",
    "import unicodedata\n",
    "nlp = spacy.load('en_core_web_sm')\n",
    "tokenizer = ToktokTokenizer()\n",
    "stopword_list = nltk.corpus.stopwords.words('english')\n",
    "stopword_list.remove('no')\n",
    "stopword_list.remove('not')"
   ]
  },
  {
   "cell_type": "code",
   "execution_count": null,
   "id": "595645ed",
   "metadata": {},
   "outputs": [],
   "source": []
  },
  {
   "cell_type": "code",
   "execution_count": null,
   "id": "528f198e",
   "metadata": {},
   "outputs": [],
   "source": []
  },
  {
   "cell_type": "code",
   "execution_count": null,
   "id": "41f3f772",
   "metadata": {},
   "outputs": [],
   "source": []
  },
  {
   "cell_type": "code",
   "execution_count": null,
   "id": "e3b8462d",
   "metadata": {},
   "outputs": [],
   "source": []
  },
  {
   "cell_type": "code",
   "execution_count": 36,
   "id": "8d7ff999",
   "metadata": {},
   "outputs": [],
   "source": [
    "def strip_html_tags(text):\n",
    "    soup = BeautifulSoup(text, \"html.parser\")\n",
    "    stripped_text = soup.get_text()\n",
    "    return stripped_text"
   ]
  },
  {
   "cell_type": "code",
   "execution_count": 37,
   "id": "06b8fc29",
   "metadata": {},
   "outputs": [],
   "source": [
    "def remove_accented_chars(text):\n",
    "    text = unicodedata.normalize('NFKD', text).encode('ascii', 'ignore').decode('utf-8', 'ignore')\n",
    "    return text"
   ]
  },
  {
   "cell_type": "code",
   "execution_count": 13,
   "id": "fe315e99",
   "metadata": {},
   "outputs": [
    {
     "data": {
      "text/plain": [
       "'\\ndef expand_contractions(text, contraction_mapping=CONTRACTION_MAP):\\n    \\n    contractions_pattern = re.compile(\\'({})\\'.format(\\'|\\'.join(contraction_mapping.keys())), \\n                                      flags=re.IGNORECASE|re.DOTALL)\\n    def expand_match(contraction):\\n        match = contraction.group(0)\\n        first_char = match[0]\\n        expanded_contraction = contraction_mapping.get(match)                                if contraction_mapping.get(match)                                else contraction_mapping.get(match.lower())                       \\n        expanded_contraction = first_char+expanded_contraction[1:]\\n        return expanded_contraction\\n        \\n    expanded_text = contractions_pattern.sub(expand_match, text)\\n    expanded_text = re.sub(\"\\'\", \"\", expanded_text)\\n    return expanded_text\\n'"
      ]
     },
     "execution_count": 13,
     "metadata": {},
     "output_type": "execute_result"
    }
   ],
   "source": [
    "'''\n",
    "def expand_contractions(text, contraction_mapping=CONTRACTION_MAP):\n",
    "    \n",
    "    contractions_pattern = re.compile('({})'.format('|'.join(contraction_mapping.keys())), \n",
    "                                      flags=re.IGNORECASE|re.DOTALL)\n",
    "    def expand_match(contraction):\n",
    "        match = contraction.group(0)\n",
    "        first_char = match[0]\n",
    "        expanded_contraction = contraction_mapping.get(match)\\\n",
    "                                if contraction_mapping.get(match)\\\n",
    "                                else contraction_mapping.get(match.lower())                       \n",
    "        expanded_contraction = first_char+expanded_contraction[1:]\n",
    "        return expanded_contraction\n",
    "        \n",
    "    expanded_text = contractions_pattern.sub(expand_match, text)\n",
    "    expanded_text = re.sub(\"'\", \"\", expanded_text)\n",
    "    return expanded_text\n",
    "'''"
   ]
  },
  {
   "cell_type": "code",
   "execution_count": 14,
   "id": "06106850",
   "metadata": {},
   "outputs": [],
   "source": [
    "def remove_special_characters(text, remove_digits=False):\n",
    "    pattern = r'[^a-zA-z0-9\\s]' if not remove_digits else r'[^a-zA-z\\s]'\n",
    "    text = re.sub(pattern, '', text)\n",
    "    return text"
   ]
  },
  {
   "cell_type": "code",
   "execution_count": 15,
   "id": "e0b7ca98",
   "metadata": {},
   "outputs": [],
   "source": [
    "def remove_stopwords(text, is_lower_case=False):\n",
    "    tokens = tokenizer.tokenize(text)\n",
    "    tokens = [token.strip() for token in tokens]\n",
    "    if is_lower_case:\n",
    "        filtered_tokens = [token for token in tokens if token not in stopword_list]\n",
    "    else:\n",
    "        filtered_tokens = [token for token in tokens if token.lower() not in stopword_list]\n",
    "    filtered_text = ' '.join(filtered_tokens)    \n",
    "    return filtered_text"
   ]
  },
  {
   "cell_type": "code",
   "execution_count": 16,
   "id": "062b8cc0",
   "metadata": {},
   "outputs": [
    {
     "ename": "NameError",
     "evalue": "name 'TEXT' is not defined",
     "output_type": "error",
     "traceback": [
      "\u001b[1;31m---------------------------------------------------------------------------\u001b[0m",
      "\u001b[1;31mNameError\u001b[0m                                 Traceback (most recent call last)",
      "\u001b[1;32mC:\\Users\\AHMEDE~1\\AppData\\Local\\Temp/ipykernel_22772/3056305797.py\u001b[0m in \u001b[0;36m<module>\u001b[1;34m\u001b[0m\n\u001b[1;32m----> 1\u001b[1;33m \u001b[0mre\u001b[0m\u001b[1;33m.\u001b[0m\u001b[0msub\u001b[0m\u001b[1;33m(\u001b[0m\u001b[1;34mr'@[A-Za-z0-9]+'\u001b[0m\u001b[1;33m,\u001b[0m\u001b[1;34m''\u001b[0m\u001b[1;33m,\u001b[0m\u001b[0mTEXT\u001b[0m\u001b[1;33m)\u001b[0m\u001b[1;33m\u001b[0m\u001b[1;33m\u001b[0m\u001b[0m\n\u001b[0m",
      "\u001b[1;31mNameError\u001b[0m: name 'TEXT' is not defined"
     ]
    }
   ],
   "source": [
    "re.sub(r'@[A-Za-z0-9]+','',TEXT)"
   ]
  },
  {
   "cell_type": "code",
   "execution_count": 12,
   "id": "fe9980eb",
   "metadata": {},
   "outputs": [
    {
     "ename": "NameError",
     "evalue": "name 'TEXT' is not defined",
     "output_type": "error",
     "traceback": [
      "\u001b[1;31m---------------------------------------------------------------------------\u001b[0m",
      "\u001b[1;31mNameError\u001b[0m                                 Traceback (most recent call last)",
      "\u001b[1;32mC:\\Users\\AHMEDE~1\\AppData\\Local\\Temp/ipykernel_22772/482171045.py\u001b[0m in \u001b[0;36m<module>\u001b[1;34m\u001b[0m\n\u001b[1;32m----> 1\u001b[1;33m \u001b[0mre\u001b[0m\u001b[1;33m.\u001b[0m\u001b[0msub\u001b[0m\u001b[1;33m(\u001b[0m\u001b[1;34m'https?://[A-Za-z0-9./]+'\u001b[0m\u001b[1;33m,\u001b[0m\u001b[1;34m''\u001b[0m\u001b[1;33m,\u001b[0m\u001b[0mTEXT\u001b[0m\u001b[1;33m)\u001b[0m\u001b[1;33m\u001b[0m\u001b[1;33m\u001b[0m\u001b[0m\n\u001b[0m",
      "\u001b[1;31mNameError\u001b[0m: name 'TEXT' is not defined"
     ]
    }
   ],
   "source": [
    "re.sub('https?://[A-Za-z0-9./]+','',TEXT)"
   ]
  },
  {
   "cell_type": "code",
   "execution_count": null,
   "id": "02a58ba7",
   "metadata": {},
   "outputs": [],
   "source": [
    "re.sub(\"[^a-zA-Z]\", \" \", TEXT)"
   ]
  },
  {
   "cell_type": "code",
   "execution_count": 32,
   "id": "cbbbb5bf",
   "metadata": {},
   "outputs": [],
   "source": []
  },
  {
   "cell_type": "code",
   "execution_count": 34,
   "id": "cea35e58",
   "metadata": {},
   "outputs": [
    {
     "data": {
      "text/html": [
       "        <script type=\"text/javascript\">\n",
       "        window.PlotlyConfig = {MathJaxConfig: 'local'};\n",
       "        if (window.MathJax) {MathJax.Hub.Config({SVG: {font: \"STIX-Web\"}});}\n",
       "        if (typeof require !== 'undefined') {\n",
       "        require.undef(\"plotly\");\n",
       "        requirejs.config({\n",
       "            paths: {\n",
       "                'plotly': ['https://cdn.plot.ly/plotly-2.6.3.min']\n",
       "            }\n",
       "        });\n",
       "        require(['plotly'], function(Plotly) {\n",
       "            window._Plotly = Plotly;\n",
       "        });\n",
       "        }\n",
       "        </script>\n",
       "        "
      ]
     },
     "metadata": {},
     "output_type": "display_data"
    },
    {
     "data": {
      "text/html": [
       "        <script type=\"text/javascript\">\n",
       "        window.PlotlyConfig = {MathJaxConfig: 'local'};\n",
       "        if (window.MathJax) {MathJax.Hub.Config({SVG: {font: \"STIX-Web\"}});}\n",
       "        if (typeof require !== 'undefined') {\n",
       "        require.undef(\"plotly\");\n",
       "        requirejs.config({\n",
       "            paths: {\n",
       "                'plotly': ['https://cdn.plot.ly/plotly-2.6.3.min']\n",
       "            }\n",
       "        });\n",
       "        require(['plotly'], function(Plotly) {\n",
       "            window._Plotly = Plotly;\n",
       "        });\n",
       "        }\n",
       "        </script>\n",
       "        "
      ]
     },
     "metadata": {},
     "output_type": "display_data"
    },
    {
     "ename": "ImportError",
     "evalue": "cannot import name 'Nleda' from 'datapurifier' (C:\\ProgramData\\Anaconda3\\lib\\site-packages\\datapurifier\\__init__.py)",
     "output_type": "error",
     "traceback": [
      "\u001b[1;31m---------------------------------------------------------------------------\u001b[0m",
      "\u001b[1;31mImportError\u001b[0m                               Traceback (most recent call last)",
      "\u001b[1;32mC:\\Users\\AHMEDE~1\\AppData\\Local\\Temp/ipykernel_22772/4241296782.py\u001b[0m in \u001b[0;36m<module>\u001b[1;34m\u001b[0m\n\u001b[0;32m      1\u001b[0m \u001b[1;32mimport\u001b[0m \u001b[0mdatapurifier\u001b[0m \u001b[1;32mas\u001b[0m \u001b[0mdp\u001b[0m\u001b[1;33m\u001b[0m\u001b[1;33m\u001b[0m\u001b[0m\n\u001b[1;32m----> 2\u001b[1;33m \u001b[1;32mfrom\u001b[0m \u001b[0mdatapurifier\u001b[0m \u001b[1;32mimport\u001b[0m \u001b[0mMleda\u001b[0m\u001b[1;33m,\u001b[0m \u001b[0mNleda\u001b[0m\u001b[1;33m,\u001b[0m \u001b[0mNlpurifier\u001b[0m\u001b[1;33m,\u001b[0m \u001b[0mMlReport\u001b[0m\u001b[1;33m\u001b[0m\u001b[1;33m\u001b[0m\u001b[0m\n\u001b[0m\u001b[0;32m      3\u001b[0m \u001b[1;33m\u001b[0m\u001b[0m\n\u001b[0;32m      4\u001b[0m \u001b[0mprint\u001b[0m\u001b[1;33m(\u001b[0m\u001b[0mdp\u001b[0m\u001b[1;33m.\u001b[0m\u001b[0m__version__\u001b[0m\u001b[1;33m)\u001b[0m\u001b[1;33m\u001b[0m\u001b[1;33m\u001b[0m\u001b[0m\n",
      "\u001b[1;31mImportError\u001b[0m: cannot import name 'Nleda' from 'datapurifier' (C:\\ProgramData\\Anaconda3\\lib\\site-packages\\datapurifier\\__init__.py)"
     ]
    }
   ],
   "source": [
    "import datapurifier as dp\n",
    "from datapurifier import Mleda, Nleda, Nlpurifier, MlReport\n",
    "\n",
    "print(dp.__version__)"
   ]
  },
  {
   "cell_type": "code",
   "execution_count": null,
   "id": "baad3176",
   "metadata": {},
   "outputs": [],
   "source": []
  },
  {
   "cell_type": "code",
   "execution_count": null,
   "id": "3374387b",
   "metadata": {},
   "outputs": [],
   "source": []
  },
  {
   "cell_type": "code",
   "execution_count": null,
   "id": "b859e08a",
   "metadata": {},
   "outputs": [],
   "source": []
  },
  {
   "cell_type": "code",
   "execution_count": null,
   "id": "cf87fafb",
   "metadata": {},
   "outputs": [],
   "source": []
  },
  {
   "cell_type": "code",
   "execution_count": 26,
   "id": "73fe593d",
   "metadata": {
    "ExecuteTime": {
     "end_time": "2020-12-28T21:47:11.400260Z",
     "start_time": "2020-12-28T21:46:02.594643Z"
    }
   },
   "outputs": [],
   "source": [
    "with open('coreliaPeople.txt', encoding=\"utf8\") as f:\n",
    "    text = [line for line in f.readlines()]"
   ]
  },
  {
   "cell_type": "code",
   "execution_count": 19,
   "id": "ae8522c5",
   "metadata": {
    "ExecuteTime": {
     "end_time": "2020-12-28T21:47:11.415399Z",
     "start_time": "2020-12-28T21:47:11.405418Z"
    }
   },
   "outputs": [
    {
     "data": {
      "text/html": [
       "<div>\n",
       "<style scoped>\n",
       "    .dataframe tbody tr th:only-of-type {\n",
       "        vertical-align: middle;\n",
       "    }\n",
       "\n",
       "    .dataframe tbody tr th {\n",
       "        vertical-align: top;\n",
       "    }\n",
       "\n",
       "    .dataframe thead th {\n",
       "        text-align: right;\n",
       "    }\n",
       "</style>\n",
       "<table border=\"1\" class=\"dataframe\">\n",
       "  <thead>\n",
       "    <tr style=\"text-align: right;\">\n",
       "      <th></th>\n",
       "      <th>text</th>\n",
       "    </tr>\n",
       "  </thead>\n",
       "  <tbody>\n",
       "    <tr>\n",
       "      <th>0</th>\n",
       "      <td>&lt;html lang=\"en\" class=\"theme theme--mercado ar...</td>\n",
       "    </tr>\n",
       "    <tr>\n",
       "      <th>1</th>\n",
       "      <td>&lt;script type=\"application/javascript\"&gt;!fun...</td>\n",
       "    </tr>\n",
       "    <tr>\n",
       "      <th>2</th>\n",
       "      <td>\\n</td>\n",
       "    </tr>\n",
       "    <tr>\n",
       "      <th>3</th>\n",
       "      <td>&lt;title&gt;(8) CORELIA: People | LinkedIn&lt;/tit...</td>\n",
       "    </tr>\n",
       "    <tr>\n",
       "      <th>4</th>\n",
       "      <td>\\n</td>\n",
       "    </tr>\n",
       "  </tbody>\n",
       "</table>\n",
       "</div>"
      ],
      "text/plain": [
       "                                                text\n",
       "0  <html lang=\"en\" class=\"theme theme--mercado ar...\n",
       "1      <script type=\"application/javascript\">!fun...\n",
       "2                                                 \\n\n",
       "3      <title>(8) CORELIA: People | LinkedIn</tit...\n",
       "4                                                 \\n"
      ]
     },
     "execution_count": 19,
     "metadata": {},
     "output_type": "execute_result"
    }
   ],
   "source": [
    "import pandas as pd\n",
    "df = pd.DataFrame(text,columns=['text'])\n",
    "df.head()"
   ]
  },
  {
   "cell_type": "code",
   "execution_count": 33,
   "id": "2d427a5e",
   "metadata": {},
   "outputs": [
    {
     "ename": "NameError",
     "evalue": "name 'lemmatize_text' is not defined",
     "output_type": "error",
     "traceback": [
      "\u001b[1;31m---------------------------------------------------------------------------\u001b[0m",
      "\u001b[1;31mNameError\u001b[0m                                 Traceback (most recent call last)",
      "\u001b[1;32mC:\\Users\\AHMEDE~1\\AppData\\Local\\Temp/ipykernel_22772/1917476918.py\u001b[0m in \u001b[0;36m<module>\u001b[1;34m\u001b[0m\n\u001b[1;32m----> 1\u001b[1;33m \u001b[0mnormalize_corpus\u001b[0m\u001b[1;33m(\u001b[0m\u001b[1;34m'coreliaPeople.txt'\u001b[0m\u001b[1;33m)\u001b[0m\u001b[1;33m\u001b[0m\u001b[1;33m\u001b[0m\u001b[0m\n\u001b[0m",
      "\u001b[1;32mC:\\Users\\AHMEDE~1\\AppData\\Local\\Temp/ipykernel_22772/2010733622.py\u001b[0m in \u001b[0;36mnormalize_corpus\u001b[1;34m(corpus, html_stripping, contraction_expansion, accented_char_removal, text_lower_case, text_lemmatization, special_char_removal, stopword_removal, remove_digits)\u001b[0m\n\u001b[0;32m     27\u001b[0m         \u001b[1;31m# lemmatize text\u001b[0m\u001b[1;33m\u001b[0m\u001b[1;33m\u001b[0m\u001b[1;33m\u001b[0m\u001b[0m\n\u001b[0;32m     28\u001b[0m         \u001b[1;32mif\u001b[0m \u001b[0mtext_lemmatization\u001b[0m\u001b[1;33m:\u001b[0m\u001b[1;33m\u001b[0m\u001b[1;33m\u001b[0m\u001b[0m\n\u001b[1;32m---> 29\u001b[1;33m             \u001b[0mdoc\u001b[0m \u001b[1;33m=\u001b[0m \u001b[0mlemmatize_text\u001b[0m\u001b[1;33m(\u001b[0m\u001b[0mdoc\u001b[0m\u001b[1;33m)\u001b[0m\u001b[1;33m\u001b[0m\u001b[1;33m\u001b[0m\u001b[0m\n\u001b[0m\u001b[0;32m     30\u001b[0m \u001b[1;33m\u001b[0m\u001b[0m\n\u001b[0;32m     31\u001b[0m         \u001b[1;31m# remove special characters and\\or digits\u001b[0m\u001b[1;33m\u001b[0m\u001b[1;33m\u001b[0m\u001b[1;33m\u001b[0m\u001b[0m\n",
      "\u001b[1;31mNameError\u001b[0m: name 'lemmatize_text' is not defined"
     ]
    }
   ],
   "source": [
    "normalize_corpus('coreliaPeople.txt')"
   ]
  },
  {
   "cell_type": "code",
   "execution_count": 22,
   "id": "abbe17ea",
   "metadata": {},
   "outputs": [],
   "source": [
    "import en_core_web_sm\n",
    "import spacy\n",
    "text = df['text'][0]\n",
    "nlp = en_core_web_sm.load()\n",
    "doc = nlp(text)"
   ]
  },
  {
   "cell_type": "code",
   "execution_count": 23,
   "id": "447ceba1",
   "metadata": {},
   "outputs": [],
   "source": [
    "features = []\n",
    "for token in doc:\n",
    "    features.append({'token' : token.text, 'pos' : token.pos_})"
   ]
  },
  {
   "cell_type": "code",
   "execution_count": 24,
   "id": "2455fa64",
   "metadata": {},
   "outputs": [
    {
     "data": {
      "text/html": [
       "<div>\n",
       "<style scoped>\n",
       "    .dataframe tbody tr th:only-of-type {\n",
       "        vertical-align: middle;\n",
       "    }\n",
       "\n",
       "    .dataframe tbody tr th {\n",
       "        vertical-align: top;\n",
       "    }\n",
       "\n",
       "    .dataframe thead th {\n",
       "        text-align: right;\n",
       "    }\n",
       "</style>\n",
       "<table border=\"1\" class=\"dataframe\">\n",
       "  <thead>\n",
       "    <tr style=\"text-align: right;\">\n",
       "      <th></th>\n",
       "      <th>token</th>\n",
       "      <th>pos</th>\n",
       "    </tr>\n",
       "  </thead>\n",
       "  <tbody>\n",
       "    <tr>\n",
       "      <th>0</th>\n",
       "      <td>&lt;</td>\n",
       "      <td>PUNCT</td>\n",
       "    </tr>\n",
       "    <tr>\n",
       "      <th>1</th>\n",
       "      <td>html</td>\n",
       "      <td>PROPN</td>\n",
       "    </tr>\n",
       "    <tr>\n",
       "      <th>2</th>\n",
       "      <td>lang=\"en</td>\n",
       "      <td>AUX</td>\n",
       "    </tr>\n",
       "    <tr>\n",
       "      <th>3</th>\n",
       "      <td>\"</td>\n",
       "      <td>PUNCT</td>\n",
       "    </tr>\n",
       "    <tr>\n",
       "      <th>4</th>\n",
       "      <td>class=\"theme</td>\n",
       "      <td>NOUN</td>\n",
       "    </tr>\n",
       "    <tr>\n",
       "      <th>5</th>\n",
       "      <td>theme</td>\n",
       "      <td>NOUN</td>\n",
       "    </tr>\n",
       "    <tr>\n",
       "      <th>6</th>\n",
       "      <td>--</td>\n",
       "      <td>PUNCT</td>\n",
       "    </tr>\n",
       "    <tr>\n",
       "      <th>7</th>\n",
       "      <td>mercado</td>\n",
       "      <td>PROPN</td>\n",
       "    </tr>\n",
       "    <tr>\n",
       "      <th>8</th>\n",
       "      <td>artdeco</td>\n",
       "      <td>PROPN</td>\n",
       "    </tr>\n",
       "    <tr>\n",
       "      <th>9</th>\n",
       "      <td>windows\"&gt;&lt;head</td>\n",
       "      <td>PROPN</td>\n",
       "    </tr>\n",
       "    <tr>\n",
       "      <th>10</th>\n",
       "      <td>&gt;</td>\n",
       "      <td>X</td>\n",
       "    </tr>\n",
       "    <tr>\n",
       "      <th>11</th>\n",
       "      <td>\\n</td>\n",
       "      <td>SPACE</td>\n",
       "    </tr>\n",
       "  </tbody>\n",
       "</table>\n",
       "</div>"
      ],
      "text/plain": [
       "             token    pos\n",
       "0                <  PUNCT\n",
       "1             html  PROPN\n",
       "2         lang=\"en    AUX\n",
       "3                \"  PUNCT\n",
       "4     class=\"theme   NOUN\n",
       "5            theme   NOUN\n",
       "6               --  PUNCT\n",
       "7          mercado  PROPN\n",
       "8          artdeco  PROPN\n",
       "9   windows\"><head  PROPN\n",
       "10               >      X\n",
       "11              \\n  SPACE"
      ]
     },
     "execution_count": 24,
     "metadata": {},
     "output_type": "execute_result"
    }
   ],
   "source": [
    "fdf = pd.DataFrame(features)\n",
    "fdf.head(len(fdf))"
   ]
  },
  {
   "cell_type": "code",
   "execution_count": 13,
   "id": "53aa8926",
   "metadata": {},
   "outputs": [],
   "source": [
    "first_tokens = ['to', 'father']\n",
    "last_tokens = ['and', 'naming']"
   ]
  },
  {
   "cell_type": "code",
   "execution_count": 15,
   "id": "0e29e569",
   "metadata": {},
   "outputs": [],
   "source": [
    "pattern_father = [[{'LOWER' : {'IN' : first_tokens}},\n",
    "           {'POS':'PROPN', 'OP' : '+'},\n",
    "           {'LOWER': {'IN' : last_tokens}} ]]"
   ]
  },
  {
   "cell_type": "code",
   "execution_count": 18,
   "id": "ca3c397c",
   "metadata": {},
   "outputs": [],
   "source": [
    "from spacy.matcher import Matcher\n",
    "def get_father(x):\n",
    "    nlp = en_core_web_sm.load()\n",
    "    doc = nlp(x)\n",
    "    matcher = Matcher(nlp.vocab) \n",
    "    matcher.add(\"matching_father\", pattern_father)\n",
    "    matches = matcher(doc)\n",
    "    sub_text = ''    \n",
    "    if(len(matches) > 0):\n",
    "        span = doc[matches[0][1]:matches[0][2]] \n",
    "        sub_text = span.text\n",
    "    tokens = sub_text.split(' ')\n",
    "    \n",
    "    name, surname = tokens[1:-1]\n",
    "    return name, surname"
   ]
  },
  {
   "cell_type": "code",
   "execution_count": 17,
   "id": "0091f68c",
   "metadata": {},
   "outputs": [
    {
     "ename": "ValueError",
     "evalue": "not enough values to unpack (expected 2, got 0)",
     "output_type": "error",
     "traceback": [
      "\u001b[1;31m---------------------------------------------------------------------------\u001b[0m",
      "\u001b[1;31mValueError\u001b[0m                                Traceback (most recent call last)",
      "\u001b[1;32mC:\\Users\\AHMEDE~1\\AppData\\Local\\Temp/ipykernel_2592/4272563900.py\u001b[0m in \u001b[0;36m<module>\u001b[1;34m\u001b[0m\n\u001b[0;32m      1\u001b[0m \u001b[0mnew_columns\u001b[0m \u001b[1;33m=\u001b[0m \u001b[1;33m[\u001b[0m\u001b[1;34m'father name'\u001b[0m\u001b[1;33m,\u001b[0m\u001b[1;34m'surname'\u001b[0m\u001b[1;33m]\u001b[0m\u001b[1;33m\u001b[0m\u001b[1;33m\u001b[0m\u001b[0m\n\u001b[0;32m      2\u001b[0m \u001b[1;32mfor\u001b[0m \u001b[0mn\u001b[0m\u001b[1;33m,\u001b[0m\u001b[0mcol\u001b[0m \u001b[1;32min\u001b[0m \u001b[0menumerate\u001b[0m\u001b[1;33m(\u001b[0m\u001b[0mnew_columns\u001b[0m\u001b[1;33m)\u001b[0m\u001b[1;33m:\u001b[0m\u001b[1;33m\u001b[0m\u001b[1;33m\u001b[0m\u001b[0m\n\u001b[1;32m----> 3\u001b[1;33m     \u001b[0mdf\u001b[0m\u001b[1;33m[\u001b[0m\u001b[0mcol\u001b[0m\u001b[1;33m]\u001b[0m \u001b[1;33m=\u001b[0m \u001b[0mdf\u001b[0m\u001b[1;33m[\u001b[0m\u001b[1;34m'text'\u001b[0m\u001b[1;33m]\u001b[0m\u001b[1;33m.\u001b[0m\u001b[0mapply\u001b[0m\u001b[1;33m(\u001b[0m\u001b[1;32mlambda\u001b[0m \u001b[0mx\u001b[0m\u001b[1;33m:\u001b[0m \u001b[0mget_father\u001b[0m\u001b[1;33m(\u001b[0m\u001b[0mx\u001b[0m\u001b[1;33m)\u001b[0m\u001b[1;33m)\u001b[0m\u001b[1;33m.\u001b[0m\u001b[0mapply\u001b[0m\u001b[1;33m(\u001b[0m\u001b[1;32mlambda\u001b[0m \u001b[0mx\u001b[0m\u001b[1;33m:\u001b[0m \u001b[0mx\u001b[0m\u001b[1;33m[\u001b[0m\u001b[0mn\u001b[0m\u001b[1;33m]\u001b[0m\u001b[1;33m)\u001b[0m\u001b[1;33m\u001b[0m\u001b[1;33m\u001b[0m\u001b[0m\n\u001b[0m",
      "\u001b[1;32mC:\\ProgramData\\Anaconda3\\lib\\site-packages\\pandas\\core\\series.py\u001b[0m in \u001b[0;36mapply\u001b[1;34m(self, func, convert_dtype, args, **kwargs)\u001b[0m\n\u001b[0;32m   4355\u001b[0m         \u001b[0mdtype\u001b[0m\u001b[1;33m:\u001b[0m \u001b[0mfloat64\u001b[0m\u001b[1;33m\u001b[0m\u001b[1;33m\u001b[0m\u001b[0m\n\u001b[0;32m   4356\u001b[0m         \"\"\"\n\u001b[1;32m-> 4357\u001b[1;33m         \u001b[1;32mreturn\u001b[0m \u001b[0mSeriesApply\u001b[0m\u001b[1;33m(\u001b[0m\u001b[0mself\u001b[0m\u001b[1;33m,\u001b[0m \u001b[0mfunc\u001b[0m\u001b[1;33m,\u001b[0m \u001b[0mconvert_dtype\u001b[0m\u001b[1;33m,\u001b[0m \u001b[0margs\u001b[0m\u001b[1;33m,\u001b[0m \u001b[0mkwargs\u001b[0m\u001b[1;33m)\u001b[0m\u001b[1;33m.\u001b[0m\u001b[0mapply\u001b[0m\u001b[1;33m(\u001b[0m\u001b[1;33m)\u001b[0m\u001b[1;33m\u001b[0m\u001b[1;33m\u001b[0m\u001b[0m\n\u001b[0m\u001b[0;32m   4358\u001b[0m \u001b[1;33m\u001b[0m\u001b[0m\n\u001b[0;32m   4359\u001b[0m     def _reduce(\n",
      "\u001b[1;32mC:\\ProgramData\\Anaconda3\\lib\\site-packages\\pandas\\core\\apply.py\u001b[0m in \u001b[0;36mapply\u001b[1;34m(self)\u001b[0m\n\u001b[0;32m   1041\u001b[0m             \u001b[1;32mreturn\u001b[0m \u001b[0mself\u001b[0m\u001b[1;33m.\u001b[0m\u001b[0mapply_str\u001b[0m\u001b[1;33m(\u001b[0m\u001b[1;33m)\u001b[0m\u001b[1;33m\u001b[0m\u001b[1;33m\u001b[0m\u001b[0m\n\u001b[0;32m   1042\u001b[0m \u001b[1;33m\u001b[0m\u001b[0m\n\u001b[1;32m-> 1043\u001b[1;33m         \u001b[1;32mreturn\u001b[0m \u001b[0mself\u001b[0m\u001b[1;33m.\u001b[0m\u001b[0mapply_standard\u001b[0m\u001b[1;33m(\u001b[0m\u001b[1;33m)\u001b[0m\u001b[1;33m\u001b[0m\u001b[1;33m\u001b[0m\u001b[0m\n\u001b[0m\u001b[0;32m   1044\u001b[0m \u001b[1;33m\u001b[0m\u001b[0m\n\u001b[0;32m   1045\u001b[0m     \u001b[1;32mdef\u001b[0m \u001b[0magg\u001b[0m\u001b[1;33m(\u001b[0m\u001b[0mself\u001b[0m\u001b[1;33m)\u001b[0m\u001b[1;33m:\u001b[0m\u001b[1;33m\u001b[0m\u001b[1;33m\u001b[0m\u001b[0m\n",
      "\u001b[1;32mC:\\ProgramData\\Anaconda3\\lib\\site-packages\\pandas\\core\\apply.py\u001b[0m in \u001b[0;36mapply_standard\u001b[1;34m(self)\u001b[0m\n\u001b[0;32m   1096\u001b[0m                 \u001b[1;31m# List[Union[Callable[..., Any], str]]]]]\"; expected\u001b[0m\u001b[1;33m\u001b[0m\u001b[1;33m\u001b[0m\u001b[1;33m\u001b[0m\u001b[0m\n\u001b[0;32m   1097\u001b[0m                 \u001b[1;31m# \"Callable[[Any], Any]\"\u001b[0m\u001b[1;33m\u001b[0m\u001b[1;33m\u001b[0m\u001b[1;33m\u001b[0m\u001b[0m\n\u001b[1;32m-> 1098\u001b[1;33m                 mapped = lib.map_infer(\n\u001b[0m\u001b[0;32m   1099\u001b[0m                     \u001b[0mvalues\u001b[0m\u001b[1;33m,\u001b[0m\u001b[1;33m\u001b[0m\u001b[1;33m\u001b[0m\u001b[0m\n\u001b[0;32m   1100\u001b[0m                     \u001b[0mf\u001b[0m\u001b[1;33m,\u001b[0m  \u001b[1;31m# type: ignore[arg-type]\u001b[0m\u001b[1;33m\u001b[0m\u001b[1;33m\u001b[0m\u001b[0m\n",
      "\u001b[1;32mC:\\ProgramData\\Anaconda3\\lib\\site-packages\\pandas\\_libs\\lib.pyx\u001b[0m in \u001b[0;36mpandas._libs.lib.map_infer\u001b[1;34m()\u001b[0m\n",
      "\u001b[1;32mC:\\Users\\AHMEDE~1\\AppData\\Local\\Temp/ipykernel_2592/4272563900.py\u001b[0m in \u001b[0;36m<lambda>\u001b[1;34m(x)\u001b[0m\n\u001b[0;32m      1\u001b[0m \u001b[0mnew_columns\u001b[0m \u001b[1;33m=\u001b[0m \u001b[1;33m[\u001b[0m\u001b[1;34m'father name'\u001b[0m\u001b[1;33m,\u001b[0m\u001b[1;34m'surname'\u001b[0m\u001b[1;33m]\u001b[0m\u001b[1;33m\u001b[0m\u001b[1;33m\u001b[0m\u001b[0m\n\u001b[0;32m      2\u001b[0m \u001b[1;32mfor\u001b[0m \u001b[0mn\u001b[0m\u001b[1;33m,\u001b[0m\u001b[0mcol\u001b[0m \u001b[1;32min\u001b[0m \u001b[0menumerate\u001b[0m\u001b[1;33m(\u001b[0m\u001b[0mnew_columns\u001b[0m\u001b[1;33m)\u001b[0m\u001b[1;33m:\u001b[0m\u001b[1;33m\u001b[0m\u001b[1;33m\u001b[0m\u001b[0m\n\u001b[1;32m----> 3\u001b[1;33m     \u001b[0mdf\u001b[0m\u001b[1;33m[\u001b[0m\u001b[0mcol\u001b[0m\u001b[1;33m]\u001b[0m \u001b[1;33m=\u001b[0m \u001b[0mdf\u001b[0m\u001b[1;33m[\u001b[0m\u001b[1;34m'text'\u001b[0m\u001b[1;33m]\u001b[0m\u001b[1;33m.\u001b[0m\u001b[0mapply\u001b[0m\u001b[1;33m(\u001b[0m\u001b[1;32mlambda\u001b[0m \u001b[0mx\u001b[0m\u001b[1;33m:\u001b[0m \u001b[0mget_father\u001b[0m\u001b[1;33m(\u001b[0m\u001b[0mx\u001b[0m\u001b[1;33m)\u001b[0m\u001b[1;33m)\u001b[0m\u001b[1;33m.\u001b[0m\u001b[0mapply\u001b[0m\u001b[1;33m(\u001b[0m\u001b[1;32mlambda\u001b[0m \u001b[0mx\u001b[0m\u001b[1;33m:\u001b[0m \u001b[0mx\u001b[0m\u001b[1;33m[\u001b[0m\u001b[0mn\u001b[0m\u001b[1;33m]\u001b[0m\u001b[1;33m)\u001b[0m\u001b[1;33m\u001b[0m\u001b[1;33m\u001b[0m\u001b[0m\n\u001b[0m",
      "\u001b[1;32mC:\\Users\\AHMEDE~1\\AppData\\Local\\Temp/ipykernel_2592/3280794689.py\u001b[0m in \u001b[0;36mget_father\u001b[1;34m(x)\u001b[0m\n\u001b[0;32m     12\u001b[0m     \u001b[0mtokens\u001b[0m \u001b[1;33m=\u001b[0m \u001b[0msub_text\u001b[0m\u001b[1;33m.\u001b[0m\u001b[0msplit\u001b[0m\u001b[1;33m(\u001b[0m\u001b[1;34m' '\u001b[0m\u001b[1;33m)\u001b[0m\u001b[1;33m\u001b[0m\u001b[1;33m\u001b[0m\u001b[0m\n\u001b[0;32m     13\u001b[0m \u001b[1;33m\u001b[0m\u001b[0m\n\u001b[1;32m---> 14\u001b[1;33m     \u001b[0mname\u001b[0m\u001b[1;33m,\u001b[0m \u001b[0msurname\u001b[0m \u001b[1;33m=\u001b[0m \u001b[0mtokens\u001b[0m\u001b[1;33m[\u001b[0m\u001b[1;36m1\u001b[0m\u001b[1;33m:\u001b[0m\u001b[1;33m-\u001b[0m\u001b[1;36m1\u001b[0m\u001b[1;33m]\u001b[0m\u001b[1;33m\u001b[0m\u001b[1;33m\u001b[0m\u001b[0m\n\u001b[0m\u001b[0;32m     15\u001b[0m     \u001b[1;32mreturn\u001b[0m \u001b[0mname\u001b[0m\u001b[1;33m,\u001b[0m \u001b[0msurname\u001b[0m\u001b[1;33m\u001b[0m\u001b[1;33m\u001b[0m\u001b[0m\n",
      "\u001b[1;31mValueError\u001b[0m: not enough values to unpack (expected 2, got 0)"
     ]
    }
   ],
   "source": [
    "new_columns = ['father name','surname']\n",
    "for n,col in enumerate(new_columns):\n",
    "    df[col] = df['text'].apply(lambda x: get_father(x)).apply(lambda x: x[n])"
   ]
  },
  {
   "cell_type": "code",
   "execution_count": null,
   "id": "cb4da593",
   "metadata": {},
   "outputs": [],
   "source": []
  },
  {
   "cell_type": "code",
   "execution_count": null,
   "id": "10cc74cc",
   "metadata": {},
   "outputs": [],
   "source": []
  },
  {
   "cell_type": "markdown",
   "id": "931e968d",
   "metadata": {
    "heading_collapsed": true
   },
   "source": [
    "# EDA"
   ]
  },
  {
   "cell_type": "code",
   "execution_count": 76,
   "id": "14c559b6",
   "metadata": {
    "ExecuteTime": {
     "end_time": "2020-12-28T21:47:11.559620Z",
     "start_time": "2020-12-28T21:47:11.419574Z"
    },
    "hidden": true
   },
   "outputs": [
    {
     "name": "stdout",
     "output_type": "stream",
     "text": [
      "Total Data\n"
     ]
    },
    {
     "data": {
      "text/plain": [
       "89058"
      ]
     },
     "metadata": {},
     "output_type": "display_data"
    },
    {
     "name": "stdout",
     "output_type": "stream",
     "text": [
      "Labeled enonce\n"
     ]
    },
    {
     "data": {
      "text/plain": [
       "89058"
      ]
     },
     "metadata": {},
     "output_type": "display_data"
    },
    {
     "data": {
      "text/plain": [
       "1.0"
      ]
     },
     "metadata": {},
     "output_type": "display_data"
    },
    {
     "name": "stdout",
     "output_type": "stream",
     "text": [
      "Labeled equpie\n"
     ]
    },
    {
     "data": {
      "text/plain": [
       "89041"
      ]
     },
     "metadata": {},
     "output_type": "display_data"
    },
    {
     "data": {
      "text/plain": [
       "0.9998091131622089"
      ]
     },
     "metadata": {},
     "output_type": "display_data"
    }
   ],
   "source": [
    "#Expolartory Data analysis\n",
    "enonce_data_condition = df[\"Enoncé\"].notna()\n",
    "eqiupe_category_data_condition = df[\"Équipe\"].notna()\n",
    "\n",
    "print(\"Total Data\")\n",
    "display(df.shape[0])\n",
    "\n",
    "print(\"Labeled enonce\")\n",
    "display(df[enonce_data_condition].shape[0])\n",
    "display(df[enonce_data_condition].shape[0]/df.shape[0])\n",
    "\n",
    "print(\"Labeled equpie\")\n",
    "display(df[eqiupe_category_data_condition].shape[0])\n",
    "display(df[eqiupe_category_data_condition].shape[0]/df.shape[0])"
   ]
  },
  {
   "cell_type": "code",
   "execution_count": 77,
   "id": "e40c6551",
   "metadata": {
    "ExecuteTime": {
     "end_time": "2020-12-28T21:47:27.744224Z",
     "start_time": "2020-12-28T21:47:11.563294Z"
    },
    "hidden": true
   },
   "outputs": [
    {
     "name": "stdout",
     "output_type": "stream",
     "text": [
      "Number of unique Tickets\n"
     ]
    },
    {
     "data": {
      "text/plain": [
       "80064"
      ]
     },
     "metadata": {},
     "output_type": "display_data"
    },
    {
     "name": "stdout",
     "output_type": "stream",
     "text": [
      "Number of unique equipe\n"
     ]
    },
    {
     "data": {
      "text/plain": [
       "26"
      ]
     },
     "metadata": {},
     "output_type": "display_data"
    }
   ],
   "source": [
    "print(\"Number of unique Tickets\")\n",
    "display(df['Enoncé'].nunique())\n",
    "\n",
    "print(\"Number of unique equipe\")\n",
    "display(df['Équipe'].nunique())\n"
   ]
  },
  {
   "cell_type": "markdown",
   "id": "409c34ee",
   "metadata": {
    "heading_collapsed": true
   },
   "source": [
    "# Data Cleaning"
   ]
  },
  {
   "cell_type": "code",
   "execution_count": 78,
   "id": "5a3a7c0b",
   "metadata": {
    "ExecuteTime": {
     "end_time": "2020-12-28T21:47:51.914387Z",
     "start_time": "2020-12-28T21:47:46.653042Z"
    },
    "hidden": true
   },
   "outputs": [
    {
     "data": {
      "text/plain": [
       ".           406442\n",
       ":           205154\n",
       "de          151988\n",
       "-            77079\n",
       "le           54670\n",
       "la           54254\n",
       "Bonjour,     49611\n",
       "the          40039\n",
       "à            39186\n",
       "du           34916\n",
       "dtype: int64"
      ]
     },
     "execution_count": 78,
     "metadata": {},
     "output_type": "execute_result"
    }
   ],
   "source": [
    "# View 10 most common words prior to text pre-processing\n",
    "freq = pd.Series(' '.join(map(str, df_idf['Enoncé'])).split()).value_counts()[:10]\n",
    "freq\n"
   ]
  },
  {
   "cell_type": "code",
   "execution_count": 79,
   "id": "eda7d7b2",
   "metadata": {
    "ExecuteTime": {
     "end_time": "2020-12-28T21:47:56.722489Z",
     "start_time": "2020-12-28T21:47:51.918441Z"
    },
    "hidden": true
   },
   "outputs": [
    {
     "data": {
      "text/plain": [
       "Conference                                                                                                                              1\n",
       "<https://monitoring.infogerance.d-fi.fr/thruk/cgi-bin/extinfo.cgi?type=2&host=DC1-TEN-XNDCP01&service=VDA%20Registred&backend=36a9e>    1\n",
       "CFTI18I+ID                                                                                                                              1\n",
       "<https://supervision.infogerance.d-fi.fr/pnp4nagios/index.php/graph?host=FR-SRV0256&srv=Ping:%20FR-SRV0256&theme=smoothness>            1\n",
       "connected_clients                                                                                                                       1\n",
       "simplement,                                                                                                                             1\n",
       "<http://helpdesk.gbm.intra/WorkOrder.do?woMode=viewWO&woID=1924>                                                                        1\n",
       "radim.miklik@poclain.com                                                                                                                1\n",
       "66.1                                                                                                                                    1\n",
       "DOWN21:50:490d                                                                                                                          1\n",
       "dtype: int64"
      ]
     },
     "execution_count": 79,
     "metadata": {},
     "output_type": "execute_result"
    }
   ],
   "source": [
    "# View 10 least common words prior to text pre-processing\n",
    "freq1 =  pd.Series(' '.join(map(str,df_idf['Enoncé'])).split()).value_counts()[-10:]\n",
    "freq1"
   ]
  },
  {
   "cell_type": "code",
   "execution_count": 80,
   "id": "22cfad0c",
   "metadata": {
    "ExecuteTime": {
     "end_time": "2020-12-28T21:47:56.737052Z",
     "start_time": "2020-12-28T21:47:56.729973Z"
    },
    "hidden": true
   },
   "outputs": [],
   "source": [
    "# Import libraries for text preprocessing\n",
    "import re\n",
    "import nltk\n",
    "\n",
    "from nltk.corpus import stopwords\n",
    "from nltk.stem.porter import PorterStemmer\n",
    "from nltk.tokenize import RegexpTokenizer\n",
    "from nltk.stem.wordnet import WordNetLemmatizer"
   ]
  },
  {
   "cell_type": "code",
   "execution_count": 81,
   "id": "3775fb56",
   "metadata": {
    "ExecuteTime": {
     "end_time": "2020-12-28T21:47:56.755824Z",
     "start_time": "2020-12-28T21:47:56.744442Z"
    },
    "hidden": true
   },
   "outputs": [],
   "source": [
    "#defining stopwords list\n",
    "from spacy.lang.fr.stop_words import STOP_WORDS as fr_stop\n",
    "from spacy.lang.en.stop_words import STOP_WORDS as en_stop\n",
    "\n",
    "final_stopwords_list = list(fr_stop) + list(en_stop)+ ['cordialement'\n",
    ",'bonjour'\n",
    ",'ok'\n",
    ",'http'\n",
    ",'plus'\n",
    ",'infogerance'\n",
    ",'demande'\n",
    ",'actualit'\n",
    ",'bonsoir'\n",
    ",'Http'\n",
    ",'fi'\n",
    ",'fr'\n",
    ",'hello'\n",
    ",'thank'\n",
    ",'wondering'\n",
    ",'merci'\n",
    ",'best'\n",
    ",'regard'\n",
    ",'bon']"
   ]
  },
  {
   "cell_type": "code",
   "execution_count": 17,
   "id": "31a193e0",
   "metadata": {},
   "outputs": [
    {
     "name": "stderr",
     "output_type": "stream",
     "text": [
      "[nltk_data] Downloading package wordnet to C:\\Users\\Ahmed El\n",
      "[nltk_data]     Agamy\\AppData\\Roaming\\nltk_data...\n",
      "[nltk_data]   Unzipping corpora\\wordnet.zip.\n"
     ]
    },
    {
     "data": {
      "text/plain": [
       "True"
      ]
     },
     "execution_count": 17,
     "metadata": {},
     "output_type": "execute_result"
    }
   ],
   "source": [
    "nltk.download('wordnet')"
   ]
  },
  {
   "cell_type": "code",
   "execution_count": 82,
   "id": "dfe8f909",
   "metadata": {
    "ExecuteTime": {
     "end_time": "2020-12-28T21:51:21.699604Z",
     "start_time": "2020-12-28T21:47:56.761299Z"
    },
    "hidden": true
   },
   "outputs": [],
   "source": [
    "# Pre-process dataset to get a cleaned and normalised text corpus\n",
    "corpus = []\n",
    "\n",
    "df['word_count'] = df['Enoncé'].apply(lambda x: len(str(x).split(\" \")))\n",
    "ds_count = len(df.word_count)\n",
    "\n",
    "for i in range(0, ds_count):\n",
    "    # Remove punctuation\n",
    "    text = re.sub('[^a-zA-Z]', ' ', str(df['Enoncé'][i]))\n",
    "    \n",
    "    # Convert to lowercase\n",
    "    text = text.lower()\n",
    "    \n",
    "    # Remove tags\n",
    "    text=re.sub(\"&lt;/?.*?&gt;\",\" &lt;&gt; \",text)\n",
    "    \n",
    "    # Remove special characters and digits\n",
    "    text=re.sub(\"(\\\\d|\\\\W)+\",\" \",text)\n",
    "    \n",
    "    # Convert to list from string\n",
    "    text = text.split()\n",
    "    \n",
    "    # Stemming\n",
    "    ps=PorterStemmer()\n",
    "    \n",
    "    # Lemmatisation\n",
    "    lem = WordNetLemmatizer()\n",
    "    text = [lem.lemmatize(word) for word in text if not word in  \n",
    "            final_stopwords_list] \n",
    "    text = \" \".join(text)\n",
    "    corpus.append(text)"
   ]
  },
  {
   "cell_type": "code",
   "execution_count": 83,
   "id": "767698bf",
   "metadata": {
    "ExecuteTime": {
     "end_time": "2020-12-28T22:24:38.924214Z",
     "start_time": "2020-12-28T22:24:38.915092Z"
    },
    "hidden": true
   },
   "outputs": [
    {
     "data": {
      "text/plain": [
       "'suite contr backup exec job sauvegardes esbans yearly failed relancer sauvegardes pilotage d'"
      ]
     },
     "execution_count": 83,
     "metadata": {},
     "output_type": "execute_result"
    }
   ],
   "source": [
    "#View sample pre-processed corpus item\n",
    "corpus[5]\n"
   ]
  },
  {
   "cell_type": "code",
   "execution_count": 84,
   "id": "b8a50b79",
   "metadata": {
    "ExecuteTime": {
     "end_time": "2020-12-28T21:51:50.146650Z",
     "start_time": "2020-12-28T21:51:21.748809Z"
    },
    "hidden": true
   },
   "outputs": [
    {
     "name": "stdout",
     "output_type": "stream",
     "text": [
      "<wordcloud.wordcloud.WordCloud object at 0x000001FA976D81C0>\n"
     ]
    },
    {
     "data": {
      "image/png": "[encoded data removed]",
      "text/plain": [
       "<Figure size 432x288 with 1 Axes>"
      ]
     },
     "metadata": {
      "needs_background": "light"
     },
     "output_type": "display_data"
    }
   ],
   "source": [
    "# Generate word cloud\n",
    "\n",
    "from PIL import Image\n",
    "from wordcloud import WordCloud, STOPWORDS, ImageColorGenerator\n",
    "import matplotlib.pyplot as plt\n",
    "%matplotlib inline\n",
    "wordcloud = WordCloud(\n",
    "                          background_color='white',\n",
    "                          stopwords=final_stopwords_list,\n",
    "                          max_words=100,\n",
    "                          max_font_size=50, \n",
    "                          random_state=42\n",
    "                         ).generate(str(corpus))\n",
    "print(wordcloud)\n",
    "fig = plt.figure(1)\n",
    "plt.imshow(wordcloud)\n",
    "plt.axis('off')\n",
    "plt.show()"
   ]
  },
  {
   "cell_type": "code",
   "execution_count": 85,
   "id": "905cc6fd",
   "metadata": {
    "ExecuteTime": {
     "end_time": "2020-12-28T21:52:30.480813Z",
     "start_time": "2020-12-28T21:51:50.151077Z"
    },
    "hidden": true
   },
   "outputs": [
    {
     "name": "stderr",
     "output_type": "stream",
     "text": [
      "C:\\ProgramData\\Anaconda3\\lib\\site-packages\\sklearn\\feature_extraction\\text.py:388: UserWarning: Your stop_words may be inconsistent with your preprocessing. Tokenizing the stop words generated tokens ['ll', 'neuf', 'qu', 'quelqu', 've'] not in stop_words.\n",
      "  warnings.warn('Your stop_words may be inconsistent with '\n"
     ]
    }
   ],
   "source": [
    "# Tokenize the text and build a vocabulary of known words\n",
    "from sklearn.feature_extraction.text import CountVectorizer\n",
    "\n",
    "cv=CountVectorizer(max_df=0.8,stop_words=final_stopwords_list, max_features=50000, ngram_range=(1,3))\n",
    "X=cv.fit_transform(corpus)"
   ]
  },
  {
   "cell_type": "code",
   "execution_count": 86,
   "id": "1f791df7",
   "metadata": {
    "ExecuteTime": {
     "end_time": "2020-12-28T21:52:30.531208Z",
     "start_time": "2020-12-28T21:52:30.486057Z"
    },
    "hidden": true
   },
   "outputs": [
    {
     "data": {
      "text/plain": [
       "['outil',\n",
       " 'supervision',\n",
       " 'remont',\n",
       " 'alerte',\n",
       " 'client',\n",
       " 'serveur',\n",
       " 'frdaplanif',\n",
       " 'adresse',\n",
       " 'ip',\n",
       " 'service']"
      ]
     },
     "execution_count": 86,
     "metadata": {},
     "output_type": "execute_result"
    }
   ],
   "source": [
    "# Sample the returned vector encoding the length of the entire vocabulary\n",
    "list(cv.vocabulary_.keys())[:10]"
   ]
  },
  {
   "cell_type": "markdown",
   "id": "a3cc6d93",
   "metadata": {
    "heading_collapsed": true
   },
   "source": [
    "# Extract most frequently occurring keywords and n-grams"
   ]
  },
  {
   "cell_type": "code",
   "execution_count": 26,
   "id": "bcaf1d6a",
   "metadata": {
    "ExecuteTime": {
     "end_time": "2020-12-28T21:52:44.949348Z",
     "start_time": "2020-12-28T21:52:30.564402Z"
    },
    "hidden": true
   },
   "outputs": [
    {
     "name": "stdout",
     "output_type": "stream",
     "text": [
      "        Keyword  Frequency\n",
      "0          host      77608\n",
      "1           cgi      70747\n",
      "2          http      67872\n",
      "3   supervision      67362\n",
      "4       message      64140\n",
      "5       service      50928\n",
      "6           com      50474\n",
      "7           srv      43866\n",
      "8          type      40453\n",
      "9         thruk      35854\n",
      "10          bin      35041\n",
      "11          php      32958\n",
      "12      extinfo      32168\n",
      "13      origine      26822\n",
      "14     pilotage      26034\n",
      "15      poclain      22915\n",
      "16         glpi      21782\n",
      "17        index      21656\n",
      "18       nagios      21386\n",
      "19     critical      20980\n"
     ]
    },
    {
     "data": {
      "text/plain": [
       "[Text(0, 0, 'host'),\n",
       " Text(1, 0, 'cgi'),\n",
       " Text(2, 0, 'http'),\n",
       " Text(3, 0, 'supervision'),\n",
       " Text(4, 0, 'message'),\n",
       " Text(5, 0, 'service'),\n",
       " Text(6, 0, 'com'),\n",
       " Text(7, 0, 'srv'),\n",
       " Text(8, 0, 'type'),\n",
       " Text(9, 0, 'thruk'),\n",
       " Text(10, 0, 'bin'),\n",
       " Text(11, 0, 'php'),\n",
       " Text(12, 0, 'extinfo'),\n",
       " Text(13, 0, 'origine'),\n",
       " Text(14, 0, 'pilotage'),\n",
       " Text(15, 0, 'poclain'),\n",
       " Text(16, 0, 'glpi'),\n",
       " Text(17, 0, 'index'),\n",
       " Text(18, 0, 'nagios'),\n",
       " Text(19, 0, 'critical')]"
      ]
     },
     "execution_count": 26,
     "metadata": {},
     "output_type": "execute_result"
    },
    {
     "data": {
      "image/png": "[encoded data removed]",
      "text/plain": [
       "<Figure size 936x576 with 1 Axes>"
      ]
     },
     "metadata": {},
     "output_type": "display_data"
    }
   ],
   "source": [
    "# View most frequently occuring keywords\n",
    "def get_top_n_words(corpus, n=None):\n",
    "    vec = CountVectorizer().fit(corpus)\n",
    "    bag_of_words = vec.transform(corpus)\n",
    "    sum_words = bag_of_words.sum(axis=0) \n",
    "    words_freq = [(word, sum_words[0, idx]) for word, idx in      \n",
    "                   vec.vocabulary_.items()]\n",
    "    words_freq =sorted(words_freq, key = lambda x: x[1], \n",
    "                       reverse=True)\n",
    "    return words_freq[:n]\n",
    "\n",
    "# Convert most freq words to dataframe for plotting bar plot\n",
    "top_words = get_top_n_words(corpus, n=20)\n",
    "top_df = pd.DataFrame(top_words)\n",
    "top_df.columns=[\"Keyword\", \"Frequency\"]\n",
    "print(top_df)\n",
    "\n",
    "\n",
    "# Barplot of most freq words\n",
    "import seaborn as sns\n",
    "sns.set(rc={'figure.figsize':(13,8)})\n",
    "g = sns.barplot(x=\"Keyword\", y=\"Frequency\", data=top_df, palette=\"Blues_d\")\n",
    "g.set_xticklabels(g.get_xticklabels(), rotation=45)\n"
   ]
  },
  {
   "cell_type": "code",
   "execution_count": 87,
   "id": "6e9c41db",
   "metadata": {
    "ExecuteTime": {
     "end_time": "2020-12-28T21:53:12.516961Z",
     "start_time": "2020-12-28T21:52:44.953596Z"
    },
    "hidden": true
   },
   "outputs": [
    {
     "name": "stdout",
     "output_type": "stream",
     "text": [
      "              Bi-gram  Frequency\n",
      "0    http supervision      40277\n",
      "1             cgi bin      34940\n",
      "2           thruk cgi      34927\n",
      "3            cgi type      32172\n",
      "4         extinfo cgi      32168\n",
      "5           type host      32167\n",
      "6         bin extinfo      31307\n",
      "7   supervision thruk      30262\n",
      "8           index php      21417\n",
      "9          pnp nagios      20874\n",
      "10         graph host      20872\n",
      "11       nagios index      20872\n",
      "12          php graph      20872\n",
      "13   theme smoothness      19123\n",
      "14        poclain com      14036\n",
      "15             num ro      11184\n",
      "16           srv host      10951\n",
      "17     castel afrique      10905\n",
      "18        afrique com      10904\n",
      "19         host theme      10792\n"
     ]
    },
    {
     "data": {
      "text/plain": [
       "[Text(0, 0, 'http supervision'),\n",
       " Text(1, 0, 'cgi bin'),\n",
       " Text(2, 0, 'thruk cgi'),\n",
       " Text(3, 0, 'cgi type'),\n",
       " Text(4, 0, 'extinfo cgi'),\n",
       " Text(5, 0, 'type host'),\n",
       " Text(6, 0, 'bin extinfo'),\n",
       " Text(7, 0, 'supervision thruk'),\n",
       " Text(8, 0, 'index php'),\n",
       " Text(9, 0, 'pnp nagios'),\n",
       " Text(10, 0, 'graph host'),\n",
       " Text(11, 0, 'nagios index'),\n",
       " Text(12, 0, 'php graph'),\n",
       " Text(13, 0, 'theme smoothness'),\n",
       " Text(14, 0, 'poclain com'),\n",
       " Text(15, 0, 'num ro'),\n",
       " Text(16, 0, 'srv host'),\n",
       " Text(17, 0, 'castel afrique'),\n",
       " Text(18, 0, 'afrique com'),\n",
       " Text(19, 0, 'host theme')]"
      ]
     },
     "execution_count": 87,
     "metadata": {},
     "output_type": "execute_result"
    },
    {
     "data": {
      "image/png": "[encoded data removed]",
      "text/plain": [
       "<Figure size 936x576 with 1 Axes>"
      ]
     },
     "metadata": {},
     "output_type": "display_data"
    }
   ],
   "source": [
    "# Most frequently occuring bigrams\n",
    "def get_top_n2_words(corpus, n=None):\n",
    "    vec1 = CountVectorizer(ngram_range=(2,2),  \n",
    "            max_features=2000).fit(corpus)\n",
    "    bag_of_words = vec1.transform(corpus)\n",
    "    sum_words = bag_of_words.sum(axis=0) \n",
    "    words_freq = [(word, sum_words[0, idx]) for word, idx in     \n",
    "                  vec1.vocabulary_.items()]\n",
    "    words_freq =sorted(words_freq, key = lambda x: x[1], \n",
    "                reverse=True)\n",
    "    return words_freq[:n]\n",
    "\n",
    "# Convert most freq bigrams to dataframe for plotting bar plot, save as CSV\n",
    "top2_words = get_top_n2_words(corpus, n=20)\n",
    "top2_df = pd.DataFrame(top2_words)\n",
    "top2_df.columns=[\"Bi-gram\", \"Frequency\"]\n",
    "print(top2_df)\n",
    "\n",
    "\n",
    "# Barplot of most freq Bi-grams\n",
    "import seaborn as sns\n",
    "sns.set(rc={'figure.figsize':(13,8)})\n",
    "h=sns.barplot(x=\"Bi-gram\", y=\"Frequency\", data=top2_df, palette=\"Blues_d\")\n",
    "h.set_xticklabels(h.get_xticklabels(), rotation=75)\n"
   ]
  },
  {
   "cell_type": "code",
   "execution_count": 88,
   "id": "45cae350",
   "metadata": {
    "ExecuteTime": {
     "end_time": "2020-12-28T21:53:47.596888Z",
     "start_time": "2020-12-28T21:53:12.521909Z"
    },
    "hidden": true
   },
   "outputs": [
    {
     "name": "stdout",
     "output_type": "stream",
     "text": [
      "                      Tri-gram  Frequency\n",
      "0                thruk cgi bin      34927\n",
      "1             extinfo cgi type      32168\n",
      "2                cgi type host      32166\n",
      "3              cgi bin extinfo      31307\n",
      "4              bin extinfo cgi      31307\n",
      "5        supervision thruk cgi      29401\n",
      "6       http supervision thruk      24170\n",
      "7             pnp nagios index      20872\n",
      "8             nagios index php      20872\n",
      "9              index php graph      20872\n",
      "10              php graph host      20870\n",
      "11          castel afrique com      10904\n",
      "12              srv host theme      10792\n",
      "13       host theme smoothness      10792\n",
      "14          glpi redirect glpi      10787\n",
      "15           redirect glpi php      10787\n",
      "16               glpi php item      10787\n",
      "17      supervision pnp nagios      10236\n",
      "18        http supervision pnp      10222\n",
      "19  supervision remonte alerte       9487\n"
     ]
    },
    {
     "data": {
      "text/plain": [
       "[Text(0, 0, 'thruk cgi bin'),\n",
       " Text(1, 0, 'extinfo cgi type'),\n",
       " Text(2, 0, 'cgi type host'),\n",
       " Text(3, 0, 'cgi bin extinfo'),\n",
       " Text(4, 0, 'bin extinfo cgi'),\n",
       " Text(5, 0, 'supervision thruk cgi'),\n",
       " Text(6, 0, 'http supervision thruk'),\n",
       " Text(7, 0, 'pnp nagios index'),\n",
       " Text(8, 0, 'nagios index php'),\n",
       " Text(9, 0, 'index php graph'),\n",
       " Text(10, 0, 'php graph host'),\n",
       " Text(11, 0, 'castel afrique com'),\n",
       " Text(12, 0, 'srv host theme'),\n",
       " Text(13, 0, 'host theme smoothness'),\n",
       " Text(14, 0, 'glpi redirect glpi'),\n",
       " Text(15, 0, 'redirect glpi php'),\n",
       " Text(16, 0, 'glpi php item'),\n",
       " Text(17, 0, 'supervision pnp nagios'),\n",
       " Text(18, 0, 'http supervision pnp'),\n",
       " Text(19, 0, 'supervision remonte alerte')]"
      ]
     },
     "execution_count": 88,
     "metadata": {},
     "output_type": "execute_result"
    },
    {
     "data": {
      "image/png": "[encoded data removed]",
      "text/plain": [
       "<Figure size 936x576 with 1 Axes>"
      ]
     },
     "metadata": {},
     "output_type": "display_data"
    }
   ],
   "source": [
    "# Most frequently occuring Tri-grams\n",
    "def get_top_n3_words(corpus, n=None):\n",
    "    vec1 = CountVectorizer(ngram_range=(3,3), \n",
    "           max_features=30000).fit(corpus)\n",
    "    bag_of_words = vec1.transform(corpus)\n",
    "    sum_words = bag_of_words.sum(axis=0) \n",
    "    words_freq = [(word, sum_words[0, idx]) for word, idx in     \n",
    "                  vec1.vocabulary_.items()]\n",
    "    words_freq =sorted(words_freq, key = lambda x: x[1], \n",
    "                reverse=True)\n",
    "    return words_freq[:n]\n",
    "\n",
    "# Convert most freq trigrams to dataframe for plotting bar plot, save as CSV\n",
    "top3_word s = get_top_n3_words(corpus, n=20)\n",
    "top3_df = pd.DataFrame(top3_words)\n",
    "top3_df.columns=[\"Tri-gram\", \"Frequency\"]\n",
    "print(top3_df)\n",
    "\n",
    "\n",
    "# Barplot of most freq Tri-grams\n",
    "import seaborn as sns\n",
    "sns.set(rc={'figure.figsize':(13,8)})\n",
    "j=sns.barplot(x=\"Tri-gram\", y=\"Frequency\", data=top3_df, palette=\"Blues_d\")\n",
    "j.set_xticklabels(j.get_xticklabels(), rotation=75)\n"
   ]
  },
  {
   "cell_type": "code",
   "execution_count": 89,
   "id": "d5cd26dd",
   "metadata": {
    "ExecuteTime": {
     "end_time": "2020-12-28T21:53:47.948467Z",
     "start_time": "2020-12-28T21:53:47.605070Z"
    },
    "hidden": true
   },
   "outputs": [],
   "source": [
    "# Get TF-IDF (term frequency/inverse document frequency) -- \n",
    "# TF-IDF lists word frequency scores that highlight words that \n",
    "# are more important to the context rather than those that \n",
    "# appear frequently across documents\n",
    "\n",
    "from sklearn.feature_extraction.text import TfidfTransformer \n",
    "tfidf_transformer=TfidfTransformer(smooth_idf=True,use_idf=True)\n",
    "tfidf_transformer.fit(X)\n",
    "\n",
    "# Get feature names\n",
    "feature_names=cv.get_feature_names()\n",
    " \n",
    "# Fetch document for which keywords needs to be extracted\n",
    "doc=corpus[ds_count-1]\n",
    " \n",
    "# Generate tf-idf for the given document\n",
    "tf_idf_vector=tfidf_transformer.transform(cv.transform([doc]))"
   ]
  },
  {
   "cell_type": "code",
   "execution_count": 90,
   "id": "60577180",
   "metadata": {
    "ExecuteTime": {
     "end_time": "2020-12-28T21:53:47.982831Z",
     "start_time": "2020-12-28T21:53:47.952079Z"
    },
    "hidden": true
   },
   "outputs": [
    {
     "name": "stdout",
     "output_type": "stream",
     "text": [
      "\n",
      "Abstract:\n",
      "plateforme supervision remonte l alerte rathastapp http supervision d thruk cgi bin extinfo cgi type host rathastapp http supervision d pnp nagios index php graph host rathastapp srv host theme smoothness glpi d redirect glpi php item rathastapp partition c http supervision d thruk cgi bin extinfo cgi type host rathastapp service partition c backend e http supervision d pnp nagios index php graph host rathastapp srv partition c theme smoothness warning http supervision d pnp nagios index php graph host rathastapp srv partition c c total gb utilis gb libre gb\n",
      "\n",
      "Keywords:\n",
      "rathastapp 0.471\n",
      "host rathastapp 0.346\n",
      "rathastapp srv 0.227\n",
      "host rathastapp srv 0.227\n",
      "graph host rathastapp 0.227\n",
      "rathastapp srv partition 0.167\n",
      "rathastapp supervision 0.152\n",
      "type host rathastapp 0.148\n",
      "partition 0.135\n",
      "host 0.133\n",
      "supervision 0.128\n",
      "php 0.113\n",
      "gb 0.104\n",
      "cgi 0.103\n",
      "supervision pnp nagios 0.102\n",
      "supervision pnp 0.102\n",
      "php graph host 0.086\n",
      "pnp nagios index 0.086\n",
      "php graph 0.086\n",
      "nagios index php 0.086\n",
      "nagios index 0.086\n",
      "index php graph 0.086\n",
      "graph host 0.086\n",
      "pnp nagios 0.086\n",
      "pnp 0.086\n"
     ]
    }
   ],
   "source": [
    "# Sort tf_idf in descending order\n",
    "from scipy.sparse import coo_matrix\n",
    "def sort_coo(coo_matrix):\n",
    "    tuples = zip(coo_matrix.col, coo_matrix.data)\n",
    "    return sorted(tuples, key=lambda x: (x[1], x[0]), reverse=True)\n",
    " \n",
    "def extract_topn_from_vector(feature_names, sorted_items, topn=25):\n",
    "    \n",
    "    # Use only topn items from vector\n",
    "    sorted_items = sorted_items[:topn]\n",
    "    score_vals = []\n",
    "    feature_vals = []\n",
    "    \n",
    "    # Word index and corresponding tf-idf score\n",
    "    for idx, score in sorted_items:\n",
    "        \n",
    "        # Keep track of feature name and its corresponding score\n",
    "        score_vals.append(round(score, 3))\n",
    "        feature_vals.append(feature_names[idx])\n",
    " \n",
    "    # Create tuples of feature,score\n",
    "    # Results = zip(feature_vals,score_vals)\n",
    "    results= {}\n",
    "    for idx in range(len(feature_vals)):\n",
    "        results[feature_vals[idx]]=score_vals[idx]\n",
    "    return results\n",
    "\n",
    "# Sort the tf-idf vectors by descending order of scores\n",
    "sorted_items=sort_coo(tf_idf_vector.tocoo())\n",
    "\n",
    "# Extract only the top n; n here is 25\n",
    "keywords=extract_topn_from_vector(feature_names,sorted_items,25)\n",
    " \n",
    "# Print the results, save as CSV\n",
    "print(\"\\nAbstract:\")\n",
    "print(doc)\n",
    "print(\"\\nKeywords:\")\n",
    "for k in keywords:\n",
    "    print(k,keywords[k])"
   ]
  },
  {
   "cell_type": "code",
   "execution_count": null,
   "id": "699a2a1f",
   "metadata": {
    "ExecuteTime": {
     "end_time": "2020-12-28T21:53:47.995271Z",
     "start_time": "2020-12-28T21:53:47.986578Z"
    },
    "hidden": true
   },
   "outputs": [],
   "source": []
  },
  {
   "cell_type": "markdown",
   "id": "de37dea0",
   "metadata": {
    "heading_collapsed": true
   },
   "source": [
    "# Classify Tickets by Equipe"
   ]
  },
  {
   "cell_type": "code",
   "execution_count": 91,
   "id": "f7a77945",
   "metadata": {
    "ExecuteTime": {
     "end_time": "2020-12-28T21:53:48.008537Z",
     "start_time": "2020-12-28T21:53:47.998974Z"
    },
    "hidden": true
   },
   "outputs": [],
   "source": [
    "import sys\n",
    "import nltk\n",
    "import numpy as np\n",
    "import pandas as pd\n",
    "import pickle\n",
    "# from helpers import *\n",
    "from nltk.stem.snowball import SnowballStemmer\n",
    "from sklearn.feature_extraction.text import CountVectorizer, TfidfTransformer\n",
    "from sklearn.linear_model import SGDClassifier\n",
    "from sklearn.model_selection import GridSearchCV, train_test_split\n",
    "from sklearn.naive_bayes import MultinomialNB\n",
    "from sklearn.pipeline import Pipeline\n",
    "from sklearn import metrics\n",
    "import os\n",
    "from matplotlib import pyplot as plt\n"
   ]
  },
  {
   "cell_type": "code",
   "execution_count": 94,
   "id": "de311e58",
   "metadata": {
    "ExecuteTime": {
     "end_time": "2020-12-28T21:54:59.844738Z",
     "start_time": "2020-12-28T21:54:59.807169Z"
    },
    "hidden": true
   },
   "outputs": [
    {
     "ename": "TypeError",
     "evalue": "'Index' object is not callable",
     "output_type": "error",
     "traceback": [
      "\u001b[1;31m---------------------------------------------------------------------------\u001b[0m",
      "\u001b[1;31mTypeError\u001b[0m                                 Traceback (most recent call last)",
      "\u001b[1;32m<ipython-input-94-441ba9480d0a>\u001b[0m in \u001b[0;36m<module>\u001b[1;34m\u001b[0m\n\u001b[0;32m      1\u001b[0m \u001b[0mdfTickets\u001b[0m \u001b[1;33m=\u001b[0m \u001b[0mdf\u001b[0m\u001b[1;33m.\u001b[0m\u001b[0mcopy\u001b[0m\u001b[1;33m(\u001b[0m\u001b[1;33m)\u001b[0m\u001b[1;33m\u001b[0m\u001b[1;33m\u001b[0m\u001b[0m\n\u001b[1;32m----> 2\u001b[1;33m \u001b[0mdf\u001b[0m\u001b[1;33m.\u001b[0m\u001b[0mcolumns\u001b[0m\u001b[1;33m(\u001b[0m\u001b[1;33m)\u001b[0m\u001b[1;33m\u001b[0m\u001b[1;33m\u001b[0m\u001b[0m\n\u001b[0m",
      "\u001b[1;31mTypeError\u001b[0m: 'Index' object is not callable"
     ]
    }
   ],
   "source": [
    "dfTickets = df.copy()\n"
   ]
  },
  {
   "cell_type": "code",
   "execution_count": 95,
   "id": "4306ecd3",
   "metadata": {},
   "outputs": [
    {
     "data": {
      "text/html": [
       "<div>\n",
       "<style scoped>\n",
       "    .dataframe tbody tr th:only-of-type {\n",
       "        vertical-align: middle;\n",
       "    }\n",
       "\n",
       "    .dataframe tbody tr th {\n",
       "        vertical-align: top;\n",
       "    }\n",
       "\n",
       "    .dataframe thead th {\n",
       "        text-align: right;\n",
       "    }\n",
       "</style>\n",
       "<table border=\"1\" class=\"dataframe\">\n",
       "  <thead>\n",
       "    <tr style=\"text-align: right;\">\n",
       "      <th></th>\n",
       "      <th>ID</th>\n",
       "      <th>Équipe</th>\n",
       "      <th>Enoncé</th>\n",
       "      <th>word_count</th>\n",
       "    </tr>\n",
       "  </thead>\n",
       "  <tbody>\n",
       "    <tr>\n",
       "      <th>0</th>\n",
       "      <td>55019</td>\n",
       "      <td>PILOTAGE</td>\n",
       "      <td>Bonsoir     Notre outil de supervision a remo...</td>\n",
       "      <td>49</td>\n",
       "    </tr>\n",
       "    <tr>\n",
       "      <th>1</th>\n",
       "      <td>55020</td>\n",
       "      <td>PILOTAGE</td>\n",
       "      <td>Bonjour,     Notre plateforme de supervision ...</td>\n",
       "      <td>49</td>\n",
       "    </tr>\n",
       "    <tr>\n",
       "      <th>2</th>\n",
       "      <td>55021</td>\n",
       "      <td>PILOTAGE</td>\n",
       "      <td>Bonjour,     Message reçu dans QSYSOPR      T...</td>\n",
       "      <td>271</td>\n",
       "    </tr>\n",
       "    <tr>\n",
       "      <th>3</th>\n",
       "      <td>55023</td>\n",
       "      <td>SUPPORT BT NETAPP</td>\n",
       "      <td>Bonjour,     Notre outil de supervision nous ...</td>\n",
       "      <td>138</td>\n",
       "    </tr>\n",
       "  </tbody>\n",
       "</table>\n",
       "</div>"
      ],
      "text/plain": [
       "      ID             Équipe  \\\n",
       "0  55019           PILOTAGE   \n",
       "1  55020           PILOTAGE   \n",
       "2  55021           PILOTAGE   \n",
       "3  55023  SUPPORT BT NETAPP   \n",
       "\n",
       "                                              Enoncé  word_count  \n",
       "0   Bonsoir     Notre outil de supervision a remo...          49  \n",
       "1   Bonjour,     Notre plateforme de supervision ...          49  \n",
       "2   Bonjour,     Message reçu dans QSYSOPR      T...         271  \n",
       "3   Bonjour,     Notre outil de supervision nous ...         138  "
      ]
     },
     "execution_count": 95,
     "metadata": {},
     "output_type": "execute_result"
    }
   ],
   "source": [
    "dfTickets.head(4)"
   ]
  },
  {
   "cell_type": "code",
   "execution_count": 98,
   "id": "0af8c328",
   "metadata": {},
   "outputs": [],
   "source": [
    "dfTickets.rename(columns = {'Équipe':'Equipment', 'Enoncé':'Ticket'}, inplace = True)"
   ]
  },
  {
   "cell_type": "code",
   "execution_count": 99,
   "id": "d998767f",
   "metadata": {},
   "outputs": [
    {
     "data": {
      "text/html": [
       "<div>\n",
       "<style scoped>\n",
       "    .dataframe tbody tr th:only-of-type {\n",
       "        vertical-align: middle;\n",
       "    }\n",
       "\n",
       "    .dataframe tbody tr th {\n",
       "        vertical-align: top;\n",
       "    }\n",
       "\n",
       "    .dataframe thead th {\n",
       "        text-align: right;\n",
       "    }\n",
       "</style>\n",
       "<table border=\"1\" class=\"dataframe\">\n",
       "  <thead>\n",
       "    <tr style=\"text-align: right;\">\n",
       "      <th></th>\n",
       "      <th>ID</th>\n",
       "      <th>Equipment</th>\n",
       "      <th>Ticket</th>\n",
       "      <th>word_count</th>\n",
       "    </tr>\n",
       "  </thead>\n",
       "  <tbody>\n",
       "    <tr>\n",
       "      <th>0</th>\n",
       "      <td>55019</td>\n",
       "      <td>PILOTAGE</td>\n",
       "      <td>Bonsoir     Notre outil de supervision a remo...</td>\n",
       "      <td>49</td>\n",
       "    </tr>\n",
       "    <tr>\n",
       "      <th>1</th>\n",
       "      <td>55020</td>\n",
       "      <td>PILOTAGE</td>\n",
       "      <td>Bonjour,     Notre plateforme de supervision ...</td>\n",
       "      <td>49</td>\n",
       "    </tr>\n",
       "    <tr>\n",
       "      <th>2</th>\n",
       "      <td>55021</td>\n",
       "      <td>PILOTAGE</td>\n",
       "      <td>Bonjour,     Message reçu dans QSYSOPR      T...</td>\n",
       "      <td>271</td>\n",
       "    </tr>\n",
       "    <tr>\n",
       "      <th>3</th>\n",
       "      <td>55023</td>\n",
       "      <td>SUPPORT BT NETAPP</td>\n",
       "      <td>Bonjour,     Notre outil de supervision nous ...</td>\n",
       "      <td>138</td>\n",
       "    </tr>\n",
       "  </tbody>\n",
       "</table>\n",
       "</div>"
      ],
      "text/plain": [
       "      ID          Equipment  \\\n",
       "0  55019           PILOTAGE   \n",
       "1  55020           PILOTAGE   \n",
       "2  55021           PILOTAGE   \n",
       "3  55023  SUPPORT BT NETAPP   \n",
       "\n",
       "                                              Ticket  word_count  \n",
       "0   Bonsoir     Notre outil de supervision a remo...          49  \n",
       "1   Bonjour,     Notre plateforme de supervision ...          49  \n",
       "2   Bonjour,     Message reçu dans QSYSOPR      T...         271  \n",
       "3   Bonjour,     Notre outil de supervision nous ...         138  "
      ]
     },
     "execution_count": 99,
     "metadata": {},
     "output_type": "execute_result"
    }
   ],
   "source": [
    "dfTickets.head(4)"
   ]
  },
  {
   "cell_type": "code",
   "execution_count": 100,
   "id": "a2062079",
   "metadata": {
    "ExecuteTime": {
     "end_time": "2020-12-28T21:54:59.984175Z",
     "start_time": "2020-12-28T21:54:59.965174Z"
    },
    "hidden": true
   },
   "outputs": [
    {
     "data": {
      "text/plain": [
       "PILOTAGE               53719\n",
       "WINDOWS                 8815\n",
       "AS400                   6437\n",
       "IT INTERNE              3517\n",
       "SAUVEGARDE              3144\n",
       "RESEAUX                 2849\n",
       "LINUX                   2322\n",
       "SDM                     1785\n",
       "COBICOM                 1461\n",
       "BT TOOLS                1325\n",
       "SUPPORT PLA             1195\n",
       "PROD APPLICATIVE        1018\n",
       "DBA                      861\n",
       "SAP                      216\n",
       "DIR-PROD                 137\n",
       "SUPPORT BT NETAPP         77\n",
       "PROJET RC                 53\n",
       "OPENINFO                  45\n",
       "SG-IS-SUPPORT             32\n",
       "AIX                        9\n",
       "TOYS-INNERWORK             8\n",
       "DATACENTER                 8\n",
       "SUPPORT QUICK-EDD          5\n",
       "INFOGERANCE GLOBALE        1\n",
       "SUPPORT BT                 1\n",
       "OZITEM                     1\n",
       "Name: Equipment, dtype: int64"
      ]
     },
     "execution_count": 100,
     "metadata": {},
     "output_type": "execute_result"
    }
   ],
   "source": [
    "dfTickets.Equipment.value_counts()"
   ]
  },
  {
   "cell_type": "code",
   "execution_count": 101,
   "id": "b90efb02",
   "metadata": {
    "ExecuteTime": {
     "end_time": "2020-12-28T21:54:59.994079Z",
     "start_time": "2020-12-28T21:54:59.987664Z"
    },
    "hidden": true
   },
   "outputs": [],
   "source": [
    "column_to_predict = \"Equipment\"\n",
    "\n",
    "\n",
    "classifier = \"SVM\"  # can also use \"SVM\" \n",
    "\n",
    "use_grid_search = True  # find hyperparameters\n",
    "remove_stop_words = True  # removes stop words from processed text\n",
    "stop_words_lang = final_stopwords_list # used with 'remove_stop_words' \n",
    "use_stemming = False  \n",
    "fit_prior = True  \n",
    "min_data_per_class = 5  # used to determine number of samples required for each class.Classes with less than that will be excluded from the dataset"
   ]
  },
  {
   "cell_type": "code",
   "execution_count": 105,
   "id": "808734d2",
   "metadata": {
    "ExecuteTime": {
     "end_time": "2020-12-28T21:55:00.910499Z",
     "start_time": "2020-12-28T21:54:59.997519Z"
    },
    "hidden": true
   },
   "outputs": [
    {
     "data": {
      "text/plain": [
       "'# Removing rows related to classes represented by low amount of data\\nprint(\"Shape of dataset before removing classes with less then \" + str(min_data_per_class) + \" rows: \"+str(dfTickets.shape))\\nprint(\"Number of classes before removing classes with less then \" + str(min_data_per_class) + \" rows: \"+str(len(np.unique(dfTickets[column_to_predict]))))\\nbytag = dfTickets.groupby(column_to_predict).aggregate(np.count_nonzero)\\ntags = bytag[bytag > min_data_per_class].index\\ndfTickets = dfTickets[dfTickets[column_to_predict].isin(tags)]\\nprint(\\n    \"Shape of dataset after removing classes with less then \"\\n    + str(min_data_per_class) + \" rows: \"\\n    + str(dfTickets.shape)\\n)\\nprint(\\n    \"Number of classes after removing classes with less then \"\\n    + str(min_data_per_class) + \" rows: \"\\n    + str(len(np.unique(dfTickets[column_to_predict])))\\n)'"
      ]
     },
     "execution_count": 105,
     "metadata": {},
     "output_type": "execute_result"
    }
   ],
   "source": [
    "text_columns = \"Ticket\"  #text columns used for TF-IDF\n",
    "\n",
    "'''# Removing rows related to classes represented by low amount of data\n",
    "print(\"Shape of dataset before removing classes with less then \" + str(min_data_per_class) + \" rows: \"+str(dfTickets.shape))\n",
    "print(\"Number of classes before removing classes with less then \" + str(min_data_per_class) + \" rows: \"+str(len(np.unique(dfTickets[column_to_predict]))))\n",
    "bytag = dfTickets.groupby(column_to_predict).aggregate(np.count_nonzero)\n",
    "tags = bytag[bytag > min_data_per_class].index\n",
    "dfTickets = dfTickets[dfTickets[column_to_predict].isin(tags)]\n",
    "print(\n",
    "    \"Shape of dataset after removing classes with less then \"\n",
    "    + str(min_data_per_class) + \" rows: \"\n",
    "    + str(dfTickets.shape)\n",
    ")\n",
    "print(\n",
    "    \"Number of classes after removing classes with less then \"\n",
    "    + str(min_data_per_class) + \" rows: \"\n",
    "    + str(len(np.unique(dfTickets[column_to_predict])))\n",
    ")'''"
   ]
  },
  {
   "cell_type": "code",
   "execution_count": 109,
   "id": "4ae7702d",
   "metadata": {
    "ExecuteTime": {
     "end_time": "2020-12-28T21:55:00.967272Z",
     "start_time": "2020-12-28T21:55:00.913947Z"
    },
    "hidden": true
   },
   "outputs": [],
   "source": [
    "labelData = dfTickets[column_to_predict]\n",
    "data = dfTickets[text_columns]\n",
    "\n",
    "# Split dataset into training and testing data\n",
    "train_data, test_data, train_labels, test_labels = train_test_split(\n",
    "    data, labelData, test_size=0.2\n",
    ")  # split data to train/test sets with 80:20 ratio"
   ]
  },
  {
   "cell_type": "code",
   "execution_count": 111,
   "id": "e75cdb80",
   "metadata": {},
   "outputs": [],
   "source": [
    "labelData.fillna(method= 'ffill', inplace= True)"
   ]
  },
  {
   "cell_type": "code",
   "execution_count": 112,
   "id": "ece0263b",
   "metadata": {
    "ExecuteTime": {
     "end_time": "2020-12-28T21:55:00.978505Z",
     "start_time": "2020-12-28T21:55:00.971859Z"
    },
    "hidden": true
   },
   "outputs": [],
   "source": [
    "class StemmedCountVectorizer(CountVectorizer):\n",
    "    def build_analyzer(self):\n",
    "        analyzer = super(StemmedCountVectorizer, self).build_analyzer()\n",
    "        stemmer = SnowballStemmer(final_stopwords_list, ignore_stopwords=True)\n",
    "        return lambda doc: ([stemmer.stem(w) for w in analyzer(doc)])"
   ]
  },
  {
   "cell_type": "code",
   "execution_count": 113,
   "id": "661346d1",
   "metadata": {
    "ExecuteTime": {
     "end_time": "2020-12-28T21:55:06.922234Z",
     "start_time": "2020-12-28T21:55:00.982064Z"
    },
    "hidden": true
   },
   "outputs": [
    {
     "name": "stderr",
     "output_type": "stream",
     "text": [
      "C:\\ProgramData\\Anaconda3\\lib\\site-packages\\sklearn\\feature_extraction\\text.py:388: UserWarning: Your stop_words may be inconsistent with your preprocessing. Tokenizing the stop words generated tokens ['ll', 'neuf', 'qu', 'quelqu', 've'] not in stop_words.\n",
      "  warnings.warn('Your stop_words may be inconsistent with '\n"
     ]
    },
    {
     "data": {
      "text/plain": [
       "(71246, 111595)"
      ]
     },
     "execution_count": 113,
     "metadata": {},
     "output_type": "execute_result"
    }
   ],
   "source": [
    "# Count vectorizer\n",
    "if remove_stop_words:\n",
    "    count_vect = CountVectorizer(stop_words=final_stopwords_list)\n",
    "elif use_stemming:\n",
    "    count_vect = StemmedCountVectorizer(stop_words=final_stopwords_list)\n",
    "else:\n",
    "    count_vect = CountVectorizer()\n",
    "\n",
    "vectorized_data = count_vect.fit_transform(train_data)\n",
    "vectorized_data.shape"
   ]
  },
  {
   "cell_type": "code",
   "execution_count": 114,
   "id": "1c955aa2",
   "metadata": {
    "ExecuteTime": {
     "end_time": "2020-12-28T21:55:07.122043Z",
     "start_time": "2020-12-28T21:55:06.926916Z"
    },
    "hidden": true
   },
   "outputs": [
    {
     "data": {
      "text/plain": [
       "(71246, 111595)"
      ]
     },
     "execution_count": 114,
     "metadata": {},
     "output_type": "execute_result"
    }
   ],
   "source": [
    "tfidf = TfidfTransformer()\n",
    "features = tfidf.fit_transform(vectorized_data)\n",
    "features.shape"
   ]
  },
  {
   "cell_type": "code",
   "execution_count": 115,
   "id": "8b953893",
   "metadata": {
    "ExecuteTime": {
     "end_time": "2020-12-28T21:55:14.565644Z",
     "start_time": "2020-12-28T21:55:07.125838Z"
    },
    "code_folding": [],
    "hidden": true
   },
   "outputs": [],
   "source": [
    "text_clf = Pipeline([\n",
    "        ('vect', count_vect),\n",
    "        ('tfidf', TfidfTransformer()),\n",
    "        ('clf', MultinomialNB(fit_prior=fit_prior))\n",
    "    ])\n",
    "text_clf = text_clf.fit(train_data, train_labels)"
   ]
  },
  {
   "cell_type": "code",
   "execution_count": 116,
   "id": "36404407",
   "metadata": {
    "ExecuteTime": {
     "end_time": "2020-12-28T22:26:42.770302Z",
     "start_time": "2020-12-28T22:25:25.045742Z"
    },
    "hidden": true
   },
   "outputs": [
    {
     "name": "stderr",
     "output_type": "stream",
     "text": [
      "C:\\ProgramData\\Anaconda3\\lib\\site-packages\\sklearn\\model_selection\\_split.py:666: UserWarning: The least populated class in y has only 1 members, which is less than n_splits=5.\n",
      "  warnings.warn((\"The least populated class in y has only %d\"\n",
      "C:\\ProgramData\\Anaconda3\\lib\\site-packages\\sklearn\\feature_extraction\\text.py:388: UserWarning: Your stop_words may be inconsistent with your preprocessing. Tokenizing the stop words generated tokens ['ll', 'neuf', 'qu', 'quelqu', 've'] not in stop_words.\n",
      "  warnings.warn('Your stop_words may be inconsistent with '\n"
     ]
    },
    {
     "data": {
      "text/plain": [
       "{'clf__alpha': 0.01, 'tfidf__use_idf': True, 'vect__ngram_range': (1, 2)}"
      ]
     },
     "execution_count": 116,
     "metadata": {},
     "output_type": "execute_result"
    }
   ],
   "source": [
    "parameters = {\n",
    "        'vect__ngram_range': [(1, 1), (1, 2)],\n",
    "        'tfidf__use_idf': (True, False),\n",
    "        'clf__alpha': (1e-2, 1e-3)\n",
    "    }\n",
    "\n",
    "    # Next, we create an instance of the grid search by passing the classifier, parameters\n",
    "    # and n_jobs=-1 which tells to use multiple cores from user machine.\n",
    "gs_clf = GridSearchCV(text_clf, parameters, n_jobs=-1)\n",
    "gs_clf = gs_clf.fit(train_data, train_labels)\n",
    "\n",
    "    # To see the best mean score and the params, run the following code\n",
    "gs_clf.best_score_\n",
    "gs_clf.best_params_"
   ]
  },
  {
   "cell_type": "code",
   "execution_count": 117,
   "id": "c7672329",
   "metadata": {
    "ExecuteTime": {
     "end_time": "2020-12-28T22:27:30.236257Z",
     "start_time": "2020-12-28T22:27:30.197463Z"
    },
    "hidden": true
   },
   "outputs": [
    {
     "data": {
      "text/plain": [
       "{'clf__alpha': 0.01, 'tfidf__use_idf': True, 'vect__ngram_range': (1, 2)}"
      ]
     },
     "execution_count": 117,
     "metadata": {},
     "output_type": "execute_result"
    }
   ],
   "source": [
    "gs_clf.best_params_"
   ]
  },
  {
   "cell_type": "code",
   "execution_count": 118,
   "id": "c8dd6190",
   "metadata": {
    "ExecuteTime": {
     "end_time": "2020-12-28T22:27:41.753145Z",
     "start_time": "2020-12-28T22:27:35.135120Z"
    },
    "hidden": true
   },
   "outputs": [
    {
     "name": "stdout",
     "output_type": "stream",
     "text": [
      "Evaluating model\n",
      "Confusion matrix without GridSearch:\n",
      "[[    0     0     0     0     0     0     0     0     0     0     3     0\n",
      "      0     0     0     0     0     0     0     0     0     0     0]\n",
      " [    0   667     0     0     0     0     1     0     0     0   601     2\n",
      "      0     0     0     0     0     0     0     0     0     0     8]\n",
      " [    0     0     0     0     0     0     0     1     0     0   215     0\n",
      "      0     7     0     0     0     0     0     0     0     0    37]\n",
      " [    0     0     0   205     0     0     0     0     0     0    94     0\n",
      "      0     0     0     0     0     0     0     0     0     0     1]\n",
      " [    0     0     0     0     0     0     0     0     0     0   165     0\n",
      "      0     0     0     0     0     0     0     0     0     0     9]\n",
      " [    0     0     0     0     0     0     0     0     0     0    14     0\n",
      "      0     0     0     0     0     0     0     0     0     0     6]\n",
      " [    0     0     0     0     0     0   448     0     0     0   268     0\n",
      "      0     0     0     0     0     0     0     0     0     0     3]\n",
      " [    0     0     0     0     0     0     0     3     0     0   440     0\n",
      "      0     1     0     0     0     0     0     0     0     0    29]\n",
      " [    0     0     0     0     0     0     0     0     0     0     6     0\n",
      "      0     0     0     0     0     0     0     0     0     0     1]\n",
      " [    0     0     0     0     0     0     0     0     0     0     1     0\n",
      "      0     0     0     0     0     0     0     0     0     0     0]\n",
      " [    0    35     0     0     0     0     4     0     0     0 10639     7\n",
      "      0     1     0     3     0     0     0     0     0     0    50]\n",
      " [    0     7     0     0     0     0     0     0     0     0    94    85\n",
      "      0     0     0     0     0     0     0     0     0     0     2]\n",
      " [    0     0     0     0     0     0     0     0     0     0     5     0\n",
      "      0     0     0     0     0     0     0     0     0     0     4]\n",
      " [    0     0     0     0     0     0     9     0     0     0   482     0\n",
      "      0    21     0     0     0     0     0     0     0     0    40]\n",
      " [    0     0     0     0     0     0     0     0     0     0    43     0\n",
      "      0     0     0     0     0     0     0     0     0     0     1]\n",
      " [    0     0     0     0     0     0     0     0     0     0   525     0\n",
      "      0     0     0    98     0     0     0     0     0     0    24]\n",
      " [    0    11     0     0     0     0     0     1     0     0   326     3\n",
      "      0     1     0     0     0     0     0     0     0     0    22]\n",
      " [    0     0     0     0     0     0     0     0     0     0     2     0\n",
      "      0     0     0     0     0     0     0     0     0     0     0]\n",
      " [    0     0     0     0     0     0     0     0     0     0    10     0\n",
      "      0     0     0     0     0     0     0     0     0     0     6]\n",
      " [    0     0     0     0     0     0   166     0     0     0    75     0\n",
      "      0     0     0     0     0     0     0     1     0     0     1]\n",
      " [    0     0     0     0     0     0     0     0     0     0     1     0\n",
      "      0     0     0     0     0     0     0     0     0     0     0]\n",
      " [    0     1     0     0     0     0     0     0     0     0     1     0\n",
      "      0     0     0     0     0     0     0     0     0     0     0]\n",
      " [    0     0     0     0     0     0     2     0     0     0  1227     0\n",
      "      0     1     0     1     0     0     0     0     0     0   538]]\n",
      "Mean without GridSearch: 0.7132831798787335\n",
      "Confusion matrix with GridSearch:\n",
      "[[   0    0    0    0    1    0    0    0    0    0    0    0    0    0\n",
      "     0    0    1    0    0    0    0    0    1]\n",
      " [   0 1088    1    0    0    0    2    9    0    0   87   10    0   21\n",
      "     0    3   37    0    0    0    0    0   21]\n",
      " [   0    1   93    2    1    1    5   24    0    0   22    0    0   37\n",
      "     0    1   11    0    0    0    0    0   62]\n",
      " [   0    0    0  277    0    0    1    0    0    0    5    0    0    0\n",
      "     0    3    2    0    0    0    0    0   12]\n",
      " [   0    0    0    0   98    0    1    7    0    0   13    0    0    5\n",
      "     0    7   10    0    0    0    0    0   33]\n",
      " [   0    3    0    0    0    1    2    1    0    0    2    0    0    4\n",
      "     0    0    1    0    0    0    0    0    6]\n",
      " [   0    1    0    0    0    0  675    0    0    0    5    1    0    6\n",
      "     0    1    1    0    0   22    0    0    7]\n",
      " [   0    4   25    0    3    1    1  275    0    0   61    0    0   28\n",
      "     0    9   12    1    0    0    0    0   53]\n",
      " [   0    0    0    0    0    0    0    4    0    0    2    0    0    0\n",
      "     0    0    0    0    0    0    0    0    1]\n",
      " [   0    0    0    0    0    0    0    0    0    0    0    0    0    0\n",
      "     0    0    1    0    0    0    0    0    0]\n",
      " [   0  318   19    4   46    0   39  130    0    0 9164   29    0   96\n",
      "     0  325   61    1    2    0    0    0  505]\n",
      " [   0   12    0    0    0    0    0    2    0    0    5  156    0    6\n",
      "     0    1    2    0    0    0    0    0    4]\n",
      " [   0    0    0    0    0    0    0    0    0    0    0    0    0    1\n",
      "     0    0    0    0    0    0    0    0    8]\n",
      " [   0    2    9    1    0    0   15    9    0    0   72    1    0  397\n",
      "     0    0   16    0    0    2    0    0   28]\n",
      " [   0    0    0    1    0    0    0    2    0    0    8    0    0    5\n",
      "    15    0    5    0    0    0    0    0    8]\n",
      " [   0    1    9    1   11    0    0    8    0    0   37    0    0    1\n",
      "     0  516    3    0    0    0    0    0   60]\n",
      " [   0   40    8    0    3    0    3   26    0    0   93    4    0   42\n",
      "     1    5   57    0    2    0    0    0   80]\n",
      " [   0    0    0    0    0    0    0    0    0    0    0    0    0    0\n",
      "     0    0    0    2    0    0    0    0    0]\n",
      " [   0    0    0    0    0    0    0    2    0    0    0    0    0    0\n",
      "     0    0    0    0    7    0    0    0    7]\n",
      " [   0    0    0    0    0    0  112    0    0    0    1    0    0    0\n",
      "     0    0    1    0    0  129    0    0    0]\n",
      " [   0    0    0    0    0    0    0    1    0    0    0    0    0    0\n",
      "     0    0    0    0    0    0    0    0    0]\n",
      " [   0    1    0    0    0    0    0    0    0    0    0    0    0    0\n",
      "     0    0    0    0    0    0    0    0    1]\n",
      " [   0    6   15    0    5    1   28   26    0    0  199    0    0   50\n",
      "     1   40   30    0    2    1    0    0 1365]]\n",
      "Mean with GridSearch: 0.8036716820121267\n"
     ]
    }
   ],
   "source": [
    "print(\"Evaluating model\")\n",
    "# Score and evaluate model on test data using model without hyperparameter tuning\n",
    "predicted = text_clf.predict(test_data)\n",
    "prediction_acc = np.mean(predicted == test_labels)\n",
    "print(\"Confusion matrix without GridSearch:\")\n",
    "print(metrics.confusion_matrix(test_labels, predicted))\n",
    "print(\"Mean without GridSearch: \" + str(prediction_acc))\n",
    "\n",
    "# Score and evaluate model on test data using model WITH hyperparameter tuning\n",
    "if use_grid_search:\n",
    "    predicted = gs_clf.predict(test_data)\n",
    "    prediction_acc = np.mean(predicted == test_labels)\n",
    "    print(\"Confusion matrix with GridSearch:\")\n",
    "    print(metrics.confusion_matrix(test_labels, predicted))\n",
    "    print(\"Mean with GridSearch: \" + str(prediction_acc))"
   ]
  },
  {
   "cell_type": "code",
   "execution_count": 119,
   "id": "7387aac0",
   "metadata": {
    "ExecuteTime": {
     "end_time": "2020-12-28T22:29:35.056369Z",
     "start_time": "2020-12-28T22:27:46.841315Z"
    },
    "code_folding": [],
    "hidden": true
   },
   "outputs": [
    {
     "data": {
      "image/png": "[encoded data removed]",
      "text/plain": [
       "<Figure size 720x720 with 1 Axes>"
      ]
     },
     "metadata": {
      "needs_background": "light"
     },
     "output_type": "display_data"
    }
   ],
   "source": [
    "# Ploting confusion matrix with 'seaborn' module\n",
    "\n",
    "%matplotlib inline\n",
    "import seaborn as sns\n",
    "from sklearn.metrics import confusion_matrix\n",
    "import matplotlib.pyplot as plt\n",
    "import matplotlib\n",
    "mat = confusion_matrix(test_labels, predicted)\n",
    "plt.figure(figsize=(10, 10))\n",
    "sns.set()\n",
    "sns.heatmap(mat.T, square=True, annot=True, fmt='d', cbar=False,\n",
    "            xticklabels=np.unique(test_labels),\n",
    "            yticklabels=np.unique(test_labels))\n",
    "plt.xlabel('true label')\n",
    "plt.ylabel('predicted label')\n",
    "plt.show()"
   ]
  },
  {
   "cell_type": "code",
   "execution_count": 120,
   "id": "36f778f4",
   "metadata": {
    "ExecuteTime": {
     "end_time": "2020-12-28T22:29:45.410473Z",
     "start_time": "2020-12-28T22:29:44.755494Z"
    },
    "hidden": true
   },
   "outputs": [
    {
     "name": "stdout",
     "output_type": "stream",
     "text": [
      "                   precision    recall  f1-score   support\n",
      "\n",
      "              AIX       0.00      0.00      0.00         3\n",
      "            AS400       0.74      0.85      0.79      1279\n",
      "         BT TOOLS       0.52      0.36      0.42       260\n",
      "          COBICOM       0.97      0.92      0.95       300\n",
      "              DBA       0.58      0.56      0.57       174\n",
      "         DIR-PROD       0.25      0.05      0.08        20\n",
      "       IT INTERNE       0.76      0.94      0.84       719\n",
      "            LINUX       0.52      0.58      0.55       473\n",
      "         OPENINFO       0.00      0.00      0.00         7\n",
      "           OZITEM       0.00      0.00      0.00         1\n",
      "         PILOTAGE       0.94      0.85      0.89     10739\n",
      " PROD APPLICATIVE       0.78      0.83      0.80       188\n",
      "        PROJET RC       0.00      0.00      0.00         9\n",
      "          RESEAUX       0.57      0.72      0.63       552\n",
      "              SAP       0.88      0.34      0.49        44\n",
      "       SAUVEGARDE       0.57      0.80      0.66       647\n",
      "              SDM       0.23      0.16      0.19       364\n",
      "    SG-IS-SUPPORT       0.50      1.00      0.67         2\n",
      "SUPPORT BT NETAPP       0.54      0.44      0.48        16\n",
      "      SUPPORT PLA       0.84      0.53      0.65       243\n",
      "SUPPORT QUICK-EDD       0.00      0.00      0.00         1\n",
      "   TOYS-INNERWORK       0.00      0.00      0.00         2\n",
      "          WINDOWS       0.60      0.77      0.68      1769\n",
      "\n",
      "         accuracy                           0.80     17812\n",
      "        macro avg       0.47      0.47      0.45     17812\n",
      "     weighted avg       0.82      0.80      0.81     17812\n",
      "\n"
     ]
    },
    {
     "name": "stderr",
     "output_type": "stream",
     "text": [
      "C:\\ProgramData\\Anaconda3\\lib\\site-packages\\sklearn\\metrics\\_classification.py:1245: UndefinedMetricWarning: Precision and F-score are ill-defined and being set to 0.0 in labels with no predicted samples. Use `zero_division` parameter to control this behavior.\n",
      "  _warn_prf(average, modifier, msg_start, len(result))\n",
      "C:\\ProgramData\\Anaconda3\\lib\\site-packages\\sklearn\\metrics\\_classification.py:1245: UndefinedMetricWarning: Precision and F-score are ill-defined and being set to 0.0 in labels with no predicted samples. Use `zero_division` parameter to control this behavior.\n",
      "  _warn_prf(average, modifier, msg_start, len(result))\n",
      "C:\\ProgramData\\Anaconda3\\lib\\site-packages\\sklearn\\metrics\\_classification.py:1245: UndefinedMetricWarning: Precision and F-score are ill-defined and being set to 0.0 in labels with no predicted samples. Use `zero_division` parameter to control this behavior.\n",
      "  _warn_prf(average, modifier, msg_start, len(result))\n"
     ]
    }
   ],
   "source": [
    "%matplotlib inline\n",
    "from sklearn.metrics import classification_report\n",
    "print(classification_report(test_labels, predicted,\n",
    "                            target_names=np.unique(test_labels)))"
   ]
  },
  {
   "cell_type": "markdown",
   "id": "a4e78e7a",
   "metadata": {
    "heading_collapsed": true
   },
   "source": [
    "# Time spent by type (Statistics)"
   ]
  },
  {
   "cell_type": "code",
   "execution_count": null,
   "id": "7480f1a7",
   "metadata": {
    "ExecuteTime": {
     "end_time": "2020-12-28T22:29:50.168020Z",
     "start_time": "2020-12-28T22:29:50.112574Z"
    },
    "hidden": true
   },
   "outputs": [],
   "source": [
    "#creating separate data set\n",
    "\n",
    "time_subset=df[['Creation-date', 'Type', 'Treatment Date']].fillna('')\n"
   ]
  },
  {
   "cell_type": "code",
   "execution_count": null,
   "id": "052ec229",
   "metadata": {
    "ExecuteTime": {
     "end_time": "2020-12-28T22:29:55.036382Z",
     "start_time": "2020-12-28T22:29:54.373942Z"
    },
    "hidden": true
   },
   "outputs": [],
   "source": [
    "#preparing date cols\n",
    "time_subset['Creation-date']=time_subset['Creation-date'].str.replace(r'\\[CET]','')\n",
    "time_subset['Creation-date']=time_subset['Creation-date'].str.replace(r'\\[CEST]','')\n",
    "time_subset['Treatment Date']=time_subset['Treatment Date'].str.replace(r'\\[CET]','')\n",
    "time_subset['Treatment Date']=time_subset['Treatment Date'].str.replace(r'\\[CEST]','')\n",
    "time_subset['Creation-date']=time_subset['Creation-date'].str.strip()\n",
    "time_subset['Treatment Date']= time_subset['Treatment Date'].str.strip()"
   ]
  },
  {
   "cell_type": "code",
   "execution_count": null,
   "id": "0c25fb62",
   "metadata": {
    "ExecuteTime": {
     "end_time": "2020-12-28T22:30:17.007313Z",
     "start_time": "2020-12-28T22:29:59.628343Z"
    },
    "hidden": true
   },
   "outputs": [],
   "source": [
    "#converting cols to datetime obj\n",
    "time_subset['Creation-date']= pd.to_datetime(time_subset['Creation-date'], format= '%m/%d/%Y %H:%M')\n",
    "time_subset['Treatment Date']= pd.to_datetime(time_subset['Treatment Date'], infer_datetime_format=True)"
   ]
  },
  {
   "cell_type": "code",
   "execution_count": null,
   "id": "9cdcecf3",
   "metadata": {
    "ExecuteTime": {
     "end_time": "2020-12-28T22:30:22.100509Z",
     "start_time": "2020-12-28T22:30:22.090493Z"
    },
    "hidden": true
   },
   "outputs": [],
   "source": [
    "#getting duration\n",
    "time_subset['duration']= (time_subset['Treatment Date']-time_subset['Creation-date'])"
   ]
  },
  {
   "cell_type": "code",
   "execution_count": null,
   "id": "4211f5d9",
   "metadata": {
    "ExecuteTime": {
     "end_time": "2020-12-28T22:30:26.990538Z",
     "start_time": "2020-12-28T22:30:26.983647Z"
    },
    "hidden": true
   },
   "outputs": [],
   "source": [
    "#converting timedelta to secs\n",
    "time_subset['duration']\n",
    "time_subset['duration'] =time_subset['duration'] / np.timedelta64(1, 's')"
   ]
  },
  {
   "cell_type": "code",
   "execution_count": null,
   "id": "13cd3cf3",
   "metadata": {
    "ExecuteTime": {
     "end_time": "2020-12-28T22:30:31.742741Z",
     "start_time": "2020-12-28T22:30:31.705610Z"
    },
    "hidden": true
   },
   "outputs": [],
   "source": [
    "grouped= time_subset.groupby('Type')['duration'].value_counts()\n",
    "grouped"
   ]
  },
  {
   "cell_type": "code",
   "execution_count": null,
   "id": "e5f47864",
   "metadata": {
    "ExecuteTime": {
     "end_time": "2020-12-28T22:30:36.349545Z",
     "start_time": "2020-12-28T22:30:36.276726Z"
    },
    "hidden": true
   },
   "outputs": [],
   "source": [
    " result = time_subset.groupby(['Type'], as_index=False).agg(\n",
    "                      {'duration':['mean','std', 'median','sum', 'max']})"
   ]
  },
  {
   "cell_type": "code",
   "execution_count": null,
   "id": "3deccbd4",
   "metadata": {
    "ExecuteTime": {
     "end_time": "2020-12-28T22:30:41.304412Z",
     "start_time": "2020-12-28T22:30:41.282548Z"
    },
    "hidden": true
   },
   "outputs": [],
   "source": [
    "#results for time analysis per type\n",
    "result"
   ]
  },
  {
   "cell_type": "markdown",
   "id": "5e5d4875",
   "metadata": {
    "heading_collapsed": true
   },
   "source": [
    "# Analyze tickets and return 5 solutions similar"
   ]
  },
  {
   "cell_type": "code",
   "execution_count": 123,
   "id": "b532dc87",
   "metadata": {},
   "outputs": [
    {
     "data": {
      "text/html": [
       "<div>\n",
       "<style scoped>\n",
       "    .dataframe tbody tr th:only-of-type {\n",
       "        vertical-align: middle;\n",
       "    }\n",
       "\n",
       "    .dataframe tbody tr th {\n",
       "        vertical-align: top;\n",
       "    }\n",
       "\n",
       "    .dataframe thead th {\n",
       "        text-align: right;\n",
       "    }\n",
       "</style>\n",
       "<table border=\"1\" class=\"dataframe\">\n",
       "  <thead>\n",
       "    <tr style=\"text-align: right;\">\n",
       "      <th></th>\n",
       "      <th>ID</th>\n",
       "      <th>Équipe</th>\n",
       "      <th>Enoncé</th>\n",
       "      <th>word_count</th>\n",
       "    </tr>\n",
       "  </thead>\n",
       "  <tbody>\n",
       "    <tr>\n",
       "      <th>0</th>\n",
       "      <td>55019</td>\n",
       "      <td>PILOTAGE</td>\n",
       "      <td>Bonsoir     Notre outil de supervision a remo...</td>\n",
       "      <td>49</td>\n",
       "    </tr>\n",
       "  </tbody>\n",
       "</table>\n",
       "</div>"
      ],
      "text/plain": [
       "      ID    Équipe                                             Enoncé  \\\n",
       "0  55019  PILOTAGE   Bonsoir     Notre outil de supervision a remo...   \n",
       "\n",
       "   word_count  \n",
       "0          49  "
      ]
     },
     "execution_count": 123,
     "metadata": {},
     "output_type": "execute_result"
    }
   ],
   "source": [
    "df.head(1)"
   ]
  },
  {
   "cell_type": "code",
   "execution_count": 124,
   "id": "a357699b",
   "metadata": {
    "ExecuteTime": {
     "end_time": "2020-12-28T23:16:40.099544Z",
     "start_time": "2020-12-28T23:16:40.065904Z"
    },
    "hidden": true
   },
   "outputs": [],
   "source": [
    "#loading data\n",
    "data1 = df['Enoncé'].dropna()"
   ]
  },
  {
   "cell_type": "code",
   "execution_count": 125,
   "id": "ea8fba65",
   "metadata": {
    "ExecuteTime": {
     "end_time": "2020-12-28T23:16:47.003319Z",
     "start_time": "2020-12-28T23:16:46.989148Z"
    },
    "hidden": true
   },
   "outputs": [
    {
     "data": {
      "text/plain": [
       "0         Bonsoir     Notre outil de supervision a remo...\n",
       "1         Bonjour,     Notre plateforme de supervision ...\n",
       "2         Bonjour,     Message reçu dans QSYSOPR      T...\n",
       "3         Bonjour,     Notre outil de supervision nous ...\n",
       "4         Bonjour,     Host: FRVE-SRV-H34VM  @NAT : 10....\n",
       "                               ...                        \n",
       "89053     Bonsoir,     nous avons une alerte sur notre ...\n",
       "89054     Origine: Samir BEDOUHENE - 2020-09-30 21:05:4...\n",
       "89055     Origine: ITORAD03 - 2020-09-30 21:06:14 CEST ...\n",
       "89056    Bonjour, Notre outil de supervision nous remon...\n",
       "89057     Bonjour,                         Notre platef...\n",
       "Name: Enoncé, Length: 89058, dtype: object"
      ]
     },
     "execution_count": 125,
     "metadata": {},
     "output_type": "execute_result"
    }
   ],
   "source": [
    "data1"
   ]
  },
  {
   "cell_type": "code",
   "execution_count": 126,
   "id": "61059ff4",
   "metadata": {
    "ExecuteTime": {
     "end_time": "2020-12-28T23:16:58.615509Z",
     "start_time": "2020-12-28T23:16:53.976586Z"
    },
    "hidden": true
   },
   "outputs": [
    {
     "name": "stderr",
     "output_type": "stream",
     "text": [
      "C:\\ProgramData\\Anaconda3\\lib\\site-packages\\sklearn\\feature_extraction\\text.py:388: UserWarning: Your stop_words may be inconsistent with your preprocessing. Tokenizing the stop words generated tokens ['ll', 'neuf', 'qu', 'quelqu', 've'] not in stop_words.\n",
      "  warnings.warn('Your stop_words may be inconsistent with '\n"
     ]
    }
   ],
   "source": [
    "#vectorizing data, Incident subject can also be used\n",
    "from sklearn.feature_extraction.text import TfidfVectorizer\n",
    "\n",
    "vectorizer = TfidfVectorizer(stop_words=final_stopwords_list)\n",
    "\n",
    "X = vectorizer.fit_transform(data1)"
   ]
  },
  {
   "cell_type": "code",
   "execution_count": 127,
   "id": "34c482d8",
   "metadata": {
    "ExecuteTime": {
     "end_time": "2020-12-28T23:17:06.106777Z",
     "start_time": "2020-12-28T23:17:06.098358Z"
    },
    "hidden": true
   },
   "outputs": [
    {
     "data": {
      "text/plain": [
       "<89058x128540 sparse matrix of type '<class 'numpy.float64'>'\n",
       "\twith 3075485 stored elements in Compressed Sparse Row format>"
      ]
     },
     "execution_count": 127,
     "metadata": {},
     "output_type": "execute_result"
    }
   ],
   "source": [
    "X"
   ]
  },
  {
   "cell_type": "code",
   "execution_count": 128,
   "id": "15bf1940",
   "metadata": {
    "ExecuteTime": {
     "end_time": "2020-12-28T23:22:27.821553Z",
     "start_time": "2020-12-28T23:22:27.795420Z"
    },
    "hidden": true
   },
   "outputs": [
    {
     "data": {
      "text/plain": [
       "NearestNeighbors(metric='cosine')"
      ]
     },
     "execution_count": 128,
     "metadata": {},
     "output_type": "execute_result"
    }
   ],
   "source": [
    "#training k nearest neighbous\n",
    "from sklearn.neighbors import NearestNeighbors\n",
    "neigh = NearestNeighbors (n_neighbors=5, metric='cosine')\n",
    "neigh.fit(X)\n",
    "\n"
   ]
  },
  {
   "cell_type": "code",
   "execution_count": 129,
   "id": "2b6c25de",
   "metadata": {
    "ExecuteTime": {
     "end_time": "2020-12-28T23:21:23.366440Z",
     "start_time": "2020-12-28T23:21:23.073516Z"
    },
    "code_folding": [],
    "hidden": true
   },
   "outputs": [],
   "source": [
    "#safety measure\n",
    "terms = count_vect.get_feature_names()"
   ]
  },
  {
   "cell_type": "code",
   "execution_count": 136,
   "id": "21158ec3",
   "metadata": {
    "ExecuteTime": {
     "end_time": "2020-12-29T01:11:32.990733Z",
     "start_time": "2020-12-29T01:11:27.317855Z"
    },
    "hidden": true
   },
   "outputs": [
    {
     "name": "stdout",
     "output_type": "stream",
     "text": [
      "Enter your Ticket: bonjour, notre server ist malade\n"
     ]
    }
   ],
   "source": [
    "input_texts = input('Enter your Ticket: ')"
   ]
  },
  {
   "cell_type": "code",
   "execution_count": 137,
   "id": "0bd0edcf",
   "metadata": {
    "ExecuteTime": {
     "end_time": "2020-12-29T01:10:40.592504Z",
     "start_time": "2020-12-29T01:10:40.518940Z"
    },
    "hidden": true
   },
   "outputs": [],
   "source": [
    "#self made func to return 5 similar tickets\n",
    "\n",
    "def get_5_Tickets(input_texts):\n",
    "    input_texts=[input_texts]\n",
    "    input_features = vectorizer.transform(input_texts)\n",
    "    D, N= neigh.kneighbors(input_features, n_neighbors= 5, return_distance=True)\n",
    "    for input_text, distances, neighbors in zip(input_texts, D, N):\n",
    "        print(\"Input text = \", input_text[:200], \"\\n\")\n",
    "        for dist, neighbor_idx in zip(distances, neighbors):\n",
    "            print(\"Distance = \", dist, \"Neighbor idx = \", neighbor_idx)\n",
    "            print(df['Enoncé'][neighbor_idx][:200])\n",
    "            print(\"-\"*200)\n",
    "        print(\"=\"*200)\n",
    "        print()"
   ]
  },
  {
   "cell_type": "code",
   "execution_count": 138,
   "id": "4b148316",
   "metadata": {
    "ExecuteTime": {
     "end_time": "2020-12-29T01:11:45.324077Z",
     "start_time": "2020-12-29T01:11:45.234196Z"
    },
    "hidden": true,
    "scrolled": true
   },
   "outputs": [
    {
     "name": "stdout",
     "output_type": "stream",
     "text": [
      "Input text =  bonjour, notre server ist malade \n",
      "\n",
      "Distance =  0.5706439318416776 Neighbor idx =  1699\n",
      " Origine: riotinto-hd.servicedesk2@atos-services.net - 2016-02-11 19:05  Message:   Bonjour,     Afin de finaliser la fermeture des tickets dans notre outils de ticktting, pourriez-vous nous communiqu\n",
      "--------------------------------------------------------------------------------------------------------------------------------------------------------------------------------------------------------\n",
      "Distance =  0.6632976610287157 Neighbor idx =  3444\n",
      " For keep you informed,     PHPVT-FILE, PHPVT-ISA, PHPVT-FS, PHPVT-APPLI, PHPVT-ACOD     all servers will be shutdown on 27th March 2016 ( 6:00 am IST time ) till 27th March 2016 ( 7:00 pm IST time ).\n",
      "--------------------------------------------------------------------------------------------------------------------------------------------------------------------------------------------------------\n",
      "Distance =  0.7128002305750365 Neighbor idx =  29119\n",
      " Gayathri N  gayathri.n  gayathri.n@poclain.com        We see there is delay to take the extract file from below path.. We use this report for mostly for day to day activity and meetings.. This may be\n",
      "--------------------------------------------------------------------------------------------------------------------------------------------------------------------------------------------------------\n",
      "Distance =  0.7547587901401903 Neighbor idx =  72247\n",
      "       Bonjour,     Merci d'intégrer à la supervision, les serveurs ci-dessous :         BACKUP Needs  OS   Role   RATMAXTESTUK1  Windows Server 2016  Application Server   RATMAXTESTUK2  Windows Serve\n",
      "--------------------------------------------------------------------------------------------------------------------------------------------------------------------------------------------------------\n",
      "Distance =  0.7912158392659228 Neighbor idx =  88241\n",
      " Name: John BRITTO RATCHAGARAJ  Mail: john.britto@poclain.com        Dear DFI Team,     Due to local power shut down in Pondi Plant, shop floor network equipment's may be gets OFF.      Date : 22nd Se\n",
      "--------------------------------------------------------------------------------------------------------------------------------------------------------------------------------------------------------\n",
      "========================================================================================================================================================================================================\n",
      "\n"
     ]
    }
   ],
   "source": [
    "get_5_Tickets(input_texts)"
   ]
  },
  {
   "cell_type": "markdown",
   "id": "c44d8713",
   "metadata": {
    "heading_collapsed": true
   },
   "source": [
    "# Speech Recognition"
   ]
  },
  {
   "cell_type": "code",
   "execution_count": 139,
   "id": "0730c3ac",
   "metadata": {
    "ExecuteTime": {
     "end_time": "2020-12-28T23:47:14.737151Z",
     "start_time": "2020-12-28T23:47:01.309692Z"
    },
    "hidden": true
   },
   "outputs": [
    {
     "name": "stdout",
     "output_type": "stream",
     "text": [
      "Collecting pyttsx3\n",
      "  Downloading pyttsx3-2.90-py3-none-any.whl (39 kB)\n",
      "Requirement already satisfied: pywin32 in c:\\programdata\\anaconda3\\lib\\site-packages (from pyttsx3) (227)\n",
      "Requirement already satisfied: comtypes in c:\\programdata\\anaconda3\\lib\\site-packages (from pyttsx3) (1.1.9)\n",
      "Collecting pypiwin32\n",
      "  Downloading pypiwin32-223-py3-none-any.whl (1.7 kB)\n",
      "Installing collected packages: pypiwin32, pyttsx3\n",
      "Successfully installed pypiwin32-223 pyttsx3-2.90\n",
      "Note: you may need to restart the kernel to use updated packages.\n"
     ]
    }
   ],
   "source": [
    "pip install pyttsx3"
   ]
  },
  {
   "cell_type": "code",
   "execution_count": 140,
   "id": "1aa7012b",
   "metadata": {
    "ExecuteTime": {
     "end_time": "2020-12-28T23:46:51.787674Z",
     "start_time": "2020-12-28T23:46:40.665541Z"
    },
    "hidden": true
   },
   "outputs": [
    {
     "name": "stdout",
     "output_type": "stream",
     "text": [
      "Collecting SpeechRecognition\n",
      "  Downloading SpeechRecognition-3.8.1-py2.py3-none-any.whl (32.8 MB)\n",
      "Installing collected packages: SpeechRecognition\n",
      "Successfully installed SpeechRecognition-3.8.1\n",
      "Note: you may need to restart the kernel to use updated packages.\n"
     ]
    }
   ],
   "source": [
    "pip install SpeechRecognition"
   ]
  },
  {
   "cell_type": "code",
   "execution_count": 141,
   "id": "e5058601",
   "metadata": {
    "ExecuteTime": {
     "end_time": "2020-12-29T00:53:23.833460Z",
     "start_time": "2020-12-29T00:52:36.314598Z"
    },
    "hidden": true
   },
   "outputs": [
    {
     "name": "stdout",
     "output_type": "stream",
     "text": [
      "Collecting package metadata (current_repodata.json): ...working... done\n",
      "Solving environment: ...working... done\n",
      "\n",
      "## Package Plan ##\n",
      "\n",
      "  environment location: C:\\ProgramData\\Anaconda3\n",
      "\n",
      "  added / updated specs:\n",
      "    - pyaudio\n",
      "\n",
      "\n",
      "The following packages will be downloaded:\n",
      "\n",
      "    package                    |            build\n",
      "    ---------------------------|-----------------\n",
      "    conda-4.10.3               |   py38haa95532_0         2.9 MB\n",
      "    portaudio-19.6.0           |       he774522_4         202 KB\n",
      "    pyaudio-0.2.11             |   py38he774522_2         206 KB\n",
      "    ------------------------------------------------------------\n",
      "                                           Total:         3.3 MB\n",
      "\n",
      "The following NEW packages will be INSTALLED:\n",
      "\n",
      "  portaudio          pkgs/main/win-64::portaudio-19.6.0-he774522_4\n",
      "  pyaudio            pkgs/main/win-64::pyaudio-0.2.11-py38he774522_2\n",
      "\n",
      "The following packages will be UPDATED:\n",
      "\n",
      "\n",
      "Note: you may need to restart the kernel to use updated packages.\n"
     ]
    },
    {
     "name": "stderr",
     "output_type": "stream",
     "text": [
      "\n",
      "EnvironmentNotWritableError: The current user does not have write permissions to the target environment.\n",
      "  environment location: C:\\ProgramData\\Anaconda3\n",
      "\n",
      "\n"
     ]
    },
    {
     "name": "stdout",
     "output_type": "stream",
     "text": [
      "  conda                               4.10.1-py38haa95532_1 --> 4.10.3-py38haa95532_0\n",
      "\n",
      "\n",
      "\n",
      "Downloading and Extracting Packages\n",
      "\n",
      "pyaudio-0.2.11       | 206 KB    |            |   0% \n",
      "pyaudio-0.2.11       | 206 KB    | 7          |   8% \n",
      "pyaudio-0.2.11       | 206 KB    | ########## | 100% \n",
      "pyaudio-0.2.11       | 206 KB    | ########## | 100% \n",
      "\n",
      "portaudio-19.6.0     | 202 KB    |            |   0% \n",
      "portaudio-19.6.0     | 202 KB    | 7          |   8% \n",
      "portaudio-19.6.0     | 202 KB    | ########## | 100% \n",
      "portaudio-19.6.0     | 202 KB    | ########## | 100% \n",
      "\n",
      "conda-4.10.3         | 2.9 MB    |            |   0% \n",
      "conda-4.10.3         | 2.9 MB    |            |   1% \n",
      "conda-4.10.3         | 2.9 MB    | 4          |   5% \n",
      "conda-4.10.3         | 2.9 MB    | #7         |  17% \n",
      "conda-4.10.3         | 2.9 MB    | ##8        |  28% \n",
      "conda-4.10.3         | 2.9 MB    | ###3       |  34% \n",
      "conda-4.10.3         | 2.9 MB    | ####8      |  48% \n",
      "conda-4.10.3         | 2.9 MB    | #####6     |  56% \n",
      "conda-4.10.3         | 2.9 MB    | ######3    |  64% \n",
      "conda-4.10.3         | 2.9 MB    | ########4  |  84% \n",
      "conda-4.10.3         | 2.9 MB    | #########5 |  95% \n",
      "conda-4.10.3         | 2.9 MB    | ########## | 100% \n",
      "Preparing transaction: ...working... done\n",
      "Verifying transaction: ...working... failed\n"
     ]
    }
   ],
   "source": [
    "conda install pyaudio"
   ]
  },
  {
   "cell_type": "code",
   "execution_count": null,
   "id": "715116ff",
   "metadata": {
    "ExecuteTime": {
     "end_time": "2020-12-29T01:01:42.804468Z",
     "start_time": "2020-12-29T01:01:41.718876Z"
    },
    "hidden": true
   },
   "outputs": [],
   "source": [
    "import speech_recognition as sr\n",
    "\n",
    "r = sr.Recognizer()\n",
    "\n",
    "with sr.AudioFile('Recording.wav') as source:\n",
    "    audio = r.record(source)\n",
    "\n",
    "text= r.recognize_google(audio)"
   ]
  },
  {
   "cell_type": "code",
   "execution_count": null,
   "id": "8b9da503",
   "metadata": {
    "ExecuteTime": {
     "end_time": "2020-12-29T01:01:51.132165Z",
     "start_time": "2020-12-29T01:01:51.125055Z"
    },
    "hidden": true
   },
   "outputs": [],
   "source": [
    "#can be input into model to recieve ticket similarity\n",
    "text"
   ]
  },
  {
   "cell_type": "code",
   "execution_count": null,
   "id": "9a4b703f",
   "metadata": {
    "ExecuteTime": {
     "end_time": "2020-12-29T00:52:02.114366Z",
     "start_time": "2020-12-29T00:52:02.079241Z"
    },
    "hidden": true
   },
   "outputs": [],
   "source": [
    "get_neigbors(text)"
   ]
  },
  {
   "cell_type": "code",
   "execution_count": 2,
   "id": "284dab2d",
   "metadata": {},
   "outputs": [],
   "source": [
    "import pandas as pd"
   ]
  },
  {
   "cell_type": "code",
   "execution_count": 3,
   "id": "582b6c62",
   "metadata": {},
   "outputs": [],
   "source": [
    "df = pd.read_excel ('Dummy Data.xlsx')"
   ]
  },
  {
   "cell_type": "code",
   "execution_count": 4,
   "id": "dbad3e16",
   "metadata": {},
   "outputs": [
    {
     "data": {
      "text/plain": [
       "Index(['password', 'username', 'datauri(base64)', 'hashs', 'phoneNumber',\n",
       "       'encrypted data ', 'location', 'emailAddress', 'job titles', 'gender',\n",
       "       'urls', 'IDS', 'social media', 'credit-card', 'CVV',\n",
       "       'oraginzation name', 'working history', 'CV', 'path location (OS)',\n",
       "       'pre-shared key', 'passphrase', 'Private key', 'keystore'],\n",
       "      dtype='object')"
      ]
     },
     "execution_count": 4,
     "metadata": {},
     "output_type": "execute_result"
    }
   ],
   "source": [
    "df.columns"
   ]
  },
  {
   "cell_type": "code",
   "execution_count": null,
   "id": "f6edc6fe",
   "metadata": {},
   "outputs": [],
   "source": []
  },
  {
   "cell_type": "code",
   "execution_count": null,
   "id": "937aaf7c",
   "metadata": {},
   "outputs": [],
   "source": [
    "import pandas as pd\n",
    "df = pd.read_excel('DFI - Export 2016 - 2020.xlsx')\n",
    "\n",
    "df.columns\n",
    "\n",
    "# EDA\n",
    "\n",
    "#Expolartory Data analysis\n",
    "enonce_data_condition = df[\"Enoncé\"].notna()\n",
    "eqiupe_category_data_condition = df[\"Équipe\"].notna()\n",
    "\n",
    "print(\"Total Data\")\n",
    "display(df.shape[0])\n",
    "\n",
    "print(\"Labeled enonce\")\n",
    "display(df[enonce_data_condition].shape[0])\n",
    "display(df[enonce_data_condition].shape[0]/df.shape[0])\n",
    "\n",
    "print(\"Labeled equpie\")\n",
    "display(df[eqiupe_category_data_condition].shape[0])\n",
    "display(df[eqiupe_category_data_condition].shape[0]/df.shape[0])\n",
    "\n",
    "print(\"Number of unique Tickets\")\n",
    "display(df['Enoncé'].nunique())\n",
    "\n",
    "print(\"Number of unique equipe\")\n",
    "display(df['Équipe'].nunique())\n",
    "\n",
    "\n",
    "# Data Cleaning\n",
    "\n",
    "# View 10 most common words prior to text pre-processing\n",
    "freq = pd.Series(' '.join(map(str, df_idf['Enoncé'])).split()).value_counts()[:10]\n",
    "freq\n",
    "\n",
    "\n",
    "# View 10 least common words prior to text pre-processing\n",
    "freq1 =  pd.Series(' '.join(map(str,df_idf['Enoncé'])).split()).value_counts()[-10:]\n",
    "freq1\n",
    "\n",
    "# Import libraries for text preprocessing\n",
    "import re\n",
    "import nltk\n",
    "\n",
    "from nltk.corpus import stopwords\n",
    "from nltk.stem.porter import PorterStemmer\n",
    "from nltk.tokenize import RegexpTokenizer\n",
    "from nltk.stem.wordnet import WordNetLemmatizer\n",
    "\n",
    "#defining stopwords list\n",
    "from spacy.lang.fr.stop_words import STOP_WORDS as fr_stop\n",
    "from spacy.lang.en.stop_words import STOP_WORDS as en_stop\n",
    "\n",
    "final_stopwords_list = list(fr_stop) + list(en_stop)+ ['cordialement'\n",
    ",'bonjour'\n",
    ",'ok'\n",
    ",'http'\n",
    ",'plus'\n",
    ",'infogerance'\n",
    ",'demande'\n",
    ",'actualit'\n",
    ",'bonsoir'\n",
    ",'Http'\n",
    ",'fi'\n",
    ",'fr'\n",
    ",'hello'\n",
    ",'thank'\n",
    ",'wondering'\n",
    ",'merci'\n",
    ",'best'\n",
    ",'regard'\n",
    ",'bon']\n",
    "\n",
    "nltk.download('wordnet')\n",
    "\n",
    "# Pre-process dataset to get a cleaned and normalised text corpus\n",
    "corpus = []\n",
    "\n",
    "df['word_count'] = df['Enoncé'].apply(lambda x: len(str(x).split(\" \")))\n",
    "ds_count = len(df.word_count)\n",
    "\n",
    "for i in range(0, ds_count):\n",
    "    # Remove punctuation\n",
    "    text = re.sub('[^a-zA-Z]', ' ', str(df['Enoncé'][i]))\n",
    "    \n",
    "    # Convert to lowercase\n",
    "    text = text.lower()\n",
    "    \n",
    "    # Remove tags\n",
    "    text=re.sub(\"&lt;/?.*?&gt;\",\" &lt;&gt; \",text)\n",
    "    \n",
    "    # Remove special characters and digits\n",
    "    text=re.sub(\"(\\\\d|\\\\W)+\",\" \",text)\n",
    "    \n",
    "    # Convert to list from string\n",
    "    text = text.split()\n",
    "    \n",
    "    # Stemming\n",
    "    ps=PorterStemmer()\n",
    "    \n",
    "    # Lemmatisation\n",
    "    lem = WordNetLemmatizer()\n",
    "    text = [lem.lemmatize(word) for word in text if not word in  \n",
    "            final_stopwords_list] \n",
    "    text = \" \".join(text)\n",
    "    corpus.append(text)\n",
    "\n",
    "#View sample pre-processed corpus item\n",
    "corpus[5]\n",
    "\n",
    "\n",
    "# Generate word cloud\n",
    "\n",
    "from PIL import Image\n",
    "from wordcloud import WordCloud, STOPWORDS, ImageColorGenerator\n",
    "import matplotlib.pyplot as plt\n",
    "%matplotlib inline\n",
    "wordcloud = WordCloud(\n",
    "                          background_color='white',\n",
    "                          stopwords=final_stopwords_list,\n",
    "                          max_words=100,\n",
    "                          max_font_size=50, \n",
    "                          random_state=42\n",
    "                         ).generate(str(corpus))\n",
    "print(wordcloud)\n",
    "fig = plt.figure(1)\n",
    "plt.imshow(wordcloud)\n",
    "plt.axis('off')\n",
    "plt.show()\n",
    "\n",
    "# Tokenize the text and build a vocabulary of known words\n",
    "from sklearn.feature_extraction.text import CountVectorizer\n",
    "\n",
    "cv=CountVectorizer(max_df=0.8,stop_words=final_stopwords_list, max_features=50000, ngram_range=(1,3))\n",
    "X=cv.fit_transform(corpus)\n",
    "\n",
    "# Sample the returned vector encoding the length of the entire vocabulary\n",
    "list(cv.vocabulary_.keys())[:10]\n",
    "\n",
    "# Extract most frequently occurring keywords and n-grams\n",
    "\n",
    "# View most frequently occuring keywords\n",
    "def get_top_n_words(corpus, n=None):\n",
    "    vec = CountVectorizer().fit(corpus)\n",
    "    bag_of_words = vec.transform(corpus)\n",
    "    sum_words = bag_of_words.sum(axis=0) \n",
    "    words_freq = [(word, sum_words[0, idx]) for word, idx in      \n",
    "                   vec.vocabulary_.items()]\n",
    "    words_freq =sorted(words_freq, key = lambda x: x[1], \n",
    "                       reverse=True)\n",
    "    return words_freq[:n]\n",
    "\n",
    "# Convert most freq words to dataframe for plotting bar plot\n",
    "top_words = get_top_n_words(corpus, n=20)\n",
    "top_df = pd.DataFrame(top_words)\n",
    "top_df.columns=[\"Keyword\", \"Frequency\"]\n",
    "print(top_df)\n",
    "\n",
    "\n",
    "# Barplot of most freq words\n",
    "import seaborn as sns\n",
    "sns.set(rc={'figure.figsize':(13,8)})\n",
    "g = sns.barplot(x=\"Keyword\", y=\"Frequency\", data=top_df, palette=\"Blues_d\")\n",
    "g.set_xticklabels(g.get_xticklabels(), rotation=45)\n",
    "\n",
    "\n",
    "# Most frequently occuring bigrams\n",
    "def get_top_n2_words(corpus, n=None):\n",
    "    vec1 = CountVectorizer(ngram_range=(2,2),  \n",
    "            max_features=2000).fit(corpus)\n",
    "    bag_of_words = vec1.transform(corpus)\n",
    "    sum_words = bag_of_words.sum(axis=0) \n",
    "    words_freq = [(word, sum_words[0, idx]) for word, idx in     \n",
    "                  vec1.vocabulary_.items()]\n",
    "    words_freq =sorted(words_freq, key = lambda x: x[1], \n",
    "                reverse=True)\n",
    "    return words_freq[:n]\n",
    "\n",
    "# Convert most freq bigrams to dataframe for plotting bar plot, save as CSV\n",
    "top2_words = get_top_n2_words(corpus, n=20)\n",
    "top2_df = pd.DataFrame(top2_words)\n",
    "top2_df.columns=[\"Bi-gram\", \"Frequency\"]\n",
    "print(top2_df)\n",
    "\n",
    "\n",
    "# Barplot of most freq Bi-grams\n",
    "import seaborn as sns\n",
    "sns.set(rc={'figure.figsize':(13,8)})\n",
    "h=sns.barplot(x=\"Bi-gram\", y=\"Frequency\", data=top2_df, palette=\"Blues_d\")\n",
    "h.set_xticklabels(h.get_xticklabels(), rotation=75)\n",
    "\n",
    "\n",
    "# Most frequently occuring Tri-grams\n",
    "def get_top_n3_words(corpus, n=None):\n",
    "    vec1 = CountVectorizer(ngram_range=(3,3), \n",
    "           max_features=30000).fit(corpus)\n",
    "    bag_of_words = vec1.transform(corpus)\n",
    "    sum_words = bag_of_words.sum(axis=0) \n",
    "    words_freq = [(word, sum_words[0, idx]) for word, idx in     \n",
    "                  vec1.vocabulary_.items()]\n",
    "    words_freq =sorted(words_freq, key = lambda x: x[1], \n",
    "                reverse=True)\n",
    "    return words_freq[:n]\n",
    "\n",
    "# Convert most freq trigrams to dataframe for plotting bar plot, save as CSV\n",
    "top3_word s = get_top_n3_words(corpus, n=20)\n",
    "top3_df = pd.DataFrame(top3_words)\n",
    "top3_df.columns=[\"Tri-gram\", \"Frequency\"]\n",
    "print(top3_df)\n",
    "\n",
    "\n",
    "# Barplot of most freq Tri-grams\n",
    "import seaborn as sns\n",
    "sns.set(rc={'figure.figsize':(13,8)})\n",
    "j=sns.barplot(x=\"Tri-gram\", y=\"Frequency\", data=top3_df, palette=\"Blues_d\")\n",
    "j.set_xticklabels(j.get_xticklabels(), rotation=75)\n",
    "\n",
    "\n",
    "# Get TF-IDF (term frequency/inverse document frequency) -- \n",
    "# TF-IDF lists word frequency scores that highlight words that \n",
    "# are more important to the context rather than those that \n",
    "# appear frequently across documents\n",
    "\n",
    "from sklearn.feature_extraction.text import TfidfTransformer \n",
    "tfidf_transformer=TfidfTransformer(smooth_idf=True,use_idf=True)\n",
    "tfidf_transformer.fit(X)\n",
    "\n",
    "# Get feature names\n",
    "feature_names=cv.get_feature_names()\n",
    " \n",
    "# Fetch document for which keywords needs to be extracted\n",
    "doc=corpus[ds_count-1]\n",
    " \n",
    "# Generate tf-idf for the given document\n",
    "tf_idf_vector=tfidf_transformer.transform(cv.transform([doc]))\n",
    "\n",
    "# Sort tf_idf in descending order\n",
    "from scipy.sparse import coo_matrix\n",
    "def sort_coo(coo_matrix):\n",
    "    tuples = zip(coo_matrix.col, coo_matrix.data)\n",
    "    return sorted(tuples, key=lambda x: (x[1], x[0]), reverse=True)\n",
    " \n",
    "def extract_topn_from_vector(feature_names, sorted_items, topn=25):\n",
    "    \n",
    "    # Use only topn items from vector\n",
    "    sorted_items = sorted_items[:topn]\n",
    "    score_vals = []\n",
    "    feature_vals = []\n",
    "    \n",
    "    # Word index and corresponding tf-idf score\n",
    "    for idx, score in sorted_items:\n",
    "        \n",
    "        # Keep track of feature name and its corresponding score\n",
    "        score_vals.append(round(score, 3))\n",
    "        feature_vals.append(feature_names[idx])\n",
    " \n",
    "    # Create tuples of feature,score\n",
    "    # Results = zip(feature_vals,score_vals)\n",
    "    results= {}\n",
    "    for idx in range(len(feature_vals)):\n",
    "        results[feature_vals[idx]]=score_vals[idx]\n",
    "    return results\n",
    "\n",
    "# Sort the tf-idf vectors by descending order of scores\n",
    "sorted_items=sort_coo(tf_idf_vector.tocoo())\n",
    "\n",
    "# Extract only the top n; n here is 25\n",
    "keywords=extract_topn_from_vector(feature_names,sorted_items,25)\n",
    " \n",
    "# Print the results, save as CSV\n",
    "print(\"\\nAbstract:\")\n",
    "print(doc)\n",
    "print(\"\\nKeywords:\")\n",
    "for k in keywords:\n",
    "    print(k,keywords[k])\n",
    "\n",
    "\n",
    "\n",
    "# Classify Tickets by Equipe\n",
    "\n",
    "import sys\n",
    "import nltk\n",
    "import numpy as np\n",
    "import pandas as pd\n",
    "import pickle\n",
    "# from helpers import *\n",
    "from nltk.stem.snowball import SnowballStemmer\n",
    "from sklearn.feature_extraction.text import CountVectorizer, TfidfTransformer\n",
    "from sklearn.linear_model import SGDClassifier\n",
    "from sklearn.model_selection import GridSearchCV, train_test_split\n",
    "from sklearn.naive_bayes import MultinomialNB\n",
    "from sklearn.pipeline import Pipeline\n",
    "from sklearn import metrics\n",
    "import os\n",
    "from matplotlib import pyplot as plt\n",
    "\n",
    "\n",
    "dfTickets = df.copy()\n",
    "\n",
    "\n",
    "dfTickets.head(4)\n",
    "\n",
    "dfTickets.rename(columns = {'Équipe':'Equipment', 'Enoncé':'Ticket'}, inplace = True)\n",
    "\n",
    "dfTickets.head(4)\n",
    "\n",
    "dfTickets.Equipment.value_counts()\n",
    "\n",
    "column_to_predict = \"Equipment\"\n",
    "\n",
    "\n",
    "classifier = \"SVM\"  # can also use \"SVM\" \n",
    "\n",
    "use_grid_search = True  # find hyperparameters\n",
    "remove_stop_words = True  # removes stop words from processed text\n",
    "stop_words_lang = final_stopwords_list # used with 'remove_stop_words' \n",
    "use_stemming = False  \n",
    "fit_prior = True  \n",
    "min_data_per_class = 5  # used to determine number of samples required for each class.Classes with less than that will be excluded from the dataset\n",
    "\n",
    "text_columns = \"Ticket\"  #text columns used for TF-IDF\n",
    "\n",
    "'''# Removing rows related to classes represented by low amount of data\n",
    "print(\"Shape of dataset before removing classes with less then \" + str(min_data_per_class) + \" rows: \"+str(dfTickets.shape))\n",
    "print(\"Number of classes before removing classes with less then \" + str(min_data_per_class) + \" rows: \"+str(len(np.unique(dfTickets[column_to_predict]))))\n",
    "bytag = dfTickets.groupby(column_to_predict).aggregate(np.count_nonzero)\n",
    "tags = bytag[bytag > min_data_per_class].index\n",
    "dfTickets = dfTickets[dfTickets[column_to_predict].isin(tags)]\n",
    "print(\n",
    "    \"Shape of dataset after removing classes with less then \"\n",
    "    + str(min_data_per_class) + \" rows: \"\n",
    "    + str(dfTickets.shape)\n",
    ")\n",
    "print(\n",
    "    \"Number of classes after removing classes with less then \"\n",
    "    + str(min_data_per_class) + \" rows: \"\n",
    "    + str(len(np.unique(dfTickets[column_to_predict])))\n",
    ")'''\n",
    "\n",
    "labelData = dfTickets[column_to_predict]\n",
    "data = dfTickets[text_columns]\n",
    "\n",
    "# Split dataset into training and testing data\n",
    "train_data, test_data, train_labels, test_labels = train_test_split(\n",
    "    data, labelData, test_size=0.2\n",
    ")  # split data to train/test sets with 80:20 ratio\n",
    "\n",
    "labelData.fillna(method= 'ffill', inplace= True)\n",
    "\n",
    "class StemmedCountVectorizer(CountVectorizer):\n",
    "    def build_analyzer(self):\n",
    "        analyzer = super(StemmedCountVectorizer, self).build_analyzer()\n",
    "        stemmer = SnowballStemmer(final_stopwords_list, ignore_stopwords=True)\n",
    "        return lambda doc: ([stemmer.stem(w) for w in analyzer(doc)])\n",
    "\n",
    "# Count vectorizer\n",
    "if remove_stop_words:\n",
    "    count_vect = CountVectorizer(stop_words=final_stopwords_list)\n",
    "elif use_stemming:\n",
    "    count_vect = StemmedCountVectorizer(stop_words=final_stopwords_list)\n",
    "else:\n",
    "    count_vect = CountVectorizer()\n",
    "\n",
    "vectorized_data = count_vect.fit_transform(train_data)\n",
    "vectorized_data.shape\n",
    "\n",
    "tfidf = TfidfTransformer()\n",
    "features = tfidf.fit_transform(vectorized_data)\n",
    "features.shape\n",
    "\n",
    "text_clf = Pipeline([\n",
    "        ('vect', count_vect),\n",
    "        ('tfidf', TfidfTransformer()),\n",
    "        ('clf', MultinomialNB(fit_prior=fit_prior))\n",
    "    ])\n",
    "text_clf = text_clf.fit(train_data, train_labels)\n",
    "\n",
    "parameters = {\n",
    "        'vect__ngram_range': [(1, 1), (1, 2)],\n",
    "        'tfidf__use_idf': (True, False),\n",
    "        'clf__alpha': (1e-2, 1e-3)\n",
    "    }\n",
    "\n",
    "    # Next, we create an instance of the grid search by passing the classifier, parameters\n",
    "    # and n_jobs=-1 which tells to use multiple cores from user machine.\n",
    "gs_clf = GridSearchCV(text_clf, parameters, n_jobs=-1)\n",
    "gs_clf = gs_clf.fit(train_data, train_labels)\n",
    "\n",
    "    # To see the best mean score and the params, run the following code\n",
    "gs_clf.best_score_\n",
    "gs_clf.best_params_\n",
    "\n",
    "gs_clf.best_params_\n",
    "\n",
    "print(\"Evaluating model\")\n",
    "# Score and evaluate model on test data using model without hyperparameter tuning\n",
    "predicted = text_clf.predict(test_data)\n",
    "prediction_acc = np.mean(predicted == test_labels)\n",
    "print(\"Confusion matrix without GridSearch:\")\n",
    "print(metrics.confusion_matrix(test_labels, predicted))\n",
    "print(\"Mean without GridSearch: \" + str(prediction_acc))\n",
    "\n",
    "# Score and evaluate model on test data using model WITH hyperparameter tuning\n",
    "if use_grid_search:\n",
    "    predicted = gs_clf.predict(test_data)\n",
    "    prediction_acc = np.mean(predicted == test_labels)\n",
    "    print(\"Confusion matrix with GridSearch:\")\n",
    "    print(metrics.confusion_matrix(test_labels, predicted))\n",
    "    print(\"Mean with GridSearch: \" + str(prediction_acc))\n",
    "\n",
    "# Ploting confusion matrix with 'seaborn' module\n",
    "\n",
    "%matplotlib inline\n",
    "import seaborn as sns\n",
    "from sklearn.metrics import confusion_matrix\n",
    "import matplotlib.pyplot as plt\n",
    "import matplotlib\n",
    "mat = confusion_matrix(test_labels, predicted)\n",
    "plt.figure(figsize=(10, 10))\n",
    "sns.set()\n",
    "sns.heatmap(mat.T, square=True, annot=True, fmt='d', cbar=False,\n",
    "            xticklabels=np.unique(test_labels),\n",
    "            yticklabels=np.unique(test_labels))\n",
    "plt.xlabel('true label')\n",
    "plt.ylabel('predicted label')\n",
    "plt.show()\n",
    "\n",
    "%matplotlib inline\n",
    "from sklearn.metrics import classification_report\n",
    "print(classification_report(test_labels, predicted,\n",
    "                            target_names=np.unique(test_labels)))\n",
    "\n",
    "# Time spent by type (Statistics)\n",
    "\n",
    "#creating separate data set\n",
    "\n",
    "time_subset=df[['Creation-date', 'Type', 'Treatment Date']].fillna('')\n",
    "\n",
    "\n",
    "#preparing date cols\n",
    "time_subset['Creation-date']=time_subset['Creation-date'].str.replace(r'\\[CET]','')\n",
    "time_subset['Creation-date']=time_subset['Creation-date'].str.replace(r'\\[CEST]','')\n",
    "time_subset['Treatment Date']=time_subset['Treatment Date'].str.replace(r'\\[CET]','')\n",
    "time_subset['Treatment Date']=time_subset['Treatment Date'].str.replace(r'\\[CEST]','')\n",
    "time_subset['Creation-date']=time_subset['Creation-date'].str.strip()\n",
    "time_subset['Treatment Date']= time_subset['Treatment Date'].str.strip()\n",
    "\n",
    "#converting cols to datetime obj\n",
    "time_subset['Creation-date']= pd.to_datetime(time_subset['Creation-date'], format= '%m/%d/%Y %H:%M')\n",
    "time_subset['Treatment Date']= pd.to_datetime(time_subset['Treatment Date'], infer_datetime_format=True)\n",
    "\n",
    "#getting duration\n",
    "time_subset['duration']= (time_subset['Treatment Date']-time_subset['Creation-date'])\n",
    "\n",
    "#converting timedelta to secs\n",
    "time_subset['duration']\n",
    "time_subset['duration'] =time_subset['duration'] / np.timedelta64(1, 's')\n",
    "\n",
    "grouped= time_subset.groupby('Type')['duration'].value_counts()\n",
    "grouped\n",
    "\n",
    " result = time_subset.groupby(['Type'], as_index=False).agg(\n",
    "                      {'duration':['mean','std', 'median','sum', 'max']})\n",
    "\n",
    "#results for time analysis per type\n",
    "result\n",
    "\n",
    "# Analyze tickets and return 5 solutions similar\n",
    "\n",
    "df.head(1)\n",
    "\n",
    "#loading data\n",
    "data1 = df['Enoncé'].dropna()\n",
    "\n",
    "data1\n",
    "\n",
    "#vectorizing data, Incident subject can also be used\n",
    "from sklearn.feature_extraction.text import TfidfVectorizer\n",
    "\n",
    "vectorizer = TfidfVectorizer(stop_words=final_stopwords_list)\n",
    "\n",
    "X = vectorizer.fit_transform(data1)\n",
    "\n",
    "X\n",
    "\n",
    "#training k nearest neighbous\n",
    "from sklearn.neighbors import NearestNeighbors\n",
    "neigh = NearestNeighbors (n_neighbors=5, metric='cosine')\n",
    "neigh.fit(X)\n",
    "\n",
    "\n",
    "\n",
    "#safety measure\n",
    "terms = count_vect.get_feature_names()\n",
    "\n",
    "input_texts = input('Enter your Ticket: ')\n",
    "\n",
    "#self made func to return 5 similar tickets\n",
    "\n",
    "def get_5_Tickets(input_texts):\n",
    "    input_texts=[input_texts]\n",
    "    input_features = vectorizer.transform(input_texts)\n",
    "    D, N= neigh.kneighbors(input_features, n_neighbors= 5, return_distance=True)\n",
    "    for input_text, distances, neighbors in zip(input_texts, D, N):\n",
    "        print(\"Input text = \", input_text[:200], \"\\n\")\n",
    "        for dist, neighbor_idx in zip(distances, neighbors):\n",
    "            print(\"Distance = \", dist, \"Neighbor idx = \", neighbor_idx)\n",
    "            print(df['Enoncé'][neighbor_idx][:200])\n",
    "            print(\"-\"*200)\n",
    "        print(\"=\"*200)\n",
    "        print()\n",
    "\n",
    "get_5_Tickets(input_texts)\n",
    "\n",
    "# Speech Recognition\n",
    "\n",
    "pip install pyttsx3\n",
    "\n",
    "pip install SpeechRecognition\n",
    "\n",
    "conda install pyaudio\n",
    "\n",
    "import speech_recognition as sr\n",
    "\n",
    "r = sr.Recognizer()\n",
    "\n",
    "with sr.AudioFile('Recording.wav') as source:\n",
    "    audio = r.record(source)\n",
    "\n",
    "text= r.recognize_google(audio)\n",
    "\n",
    "#can be input into model to recieve ticket similarity\n",
    "text\n",
    "\n",
    "get_neigbors(text)"
   ]
  },
  {
   "cell_type": "code",
   "execution_count": null,
   "id": "0b370678",
   "metadata": {},
   "outputs": [],
   "source": []
  },
  {
   "cell_type": "code",
   "execution_count": null,
   "id": "54a6212f",
   "metadata": {},
   "outputs": [],
   "source": []
  },
  {
   "cell_type": "code",
   "execution_count": null,
   "id": "f9a16d50",
   "metadata": {},
   "outputs": [],
   "source": []
  },
  {
   "cell_type": "code",
   "execution_count": null,
   "id": "51ee7a9e",
   "metadata": {},
   "outputs": [],
   "source": []
  },
  {
   "cell_type": "code",
   "execution_count": null,
   "id": "61d0b476",
   "metadata": {},
   "outputs": [],
   "source": []
  },
  {
   "cell_type": "code",
   "execution_count": null,
   "id": "34675768",
   "metadata": {},
   "outputs": [],
   "source": []
  },
  {
   "cell_type": "code",
   "execution_count": null,
   "id": "6a052ccf",
   "metadata": {},
   "outputs": [],
   "source": []
  },
  {
   "cell_type": "code",
   "execution_count": null,
   "id": "bbb4440a",
   "metadata": {},
   "outputs": [],
   "source": []
  },
  {
   "cell_type": "code",
   "execution_count": null,
   "id": "57f018a6",
   "metadata": {},
   "outputs": [],
   "source": []
  },
  {
   "cell_type": "code",
   "execution_count": null,
   "id": "5b69aebc",
   "metadata": {},
   "outputs": [],
   "source": []
  },
  {
   "cell_type": "code",
   "execution_count": null,
   "id": "5d3c3798",
   "metadata": {},
   "outputs": [],
   "source": []
  }
 ],
 "metadata": {
  "kernelspec": {
   "display_name": "Python 3 (ipykernel)",
   "language": "python",
   "name": "python3"
  },
  "language_info": {
   "codemirror_mode": {
    "name": "ipython",
    "version": 3
   },
   "file_extension": ".py",
   "mimetype": "text/x-python",
   "name": "python",
   "nbconvert_exporter": "python",
   "pygments_lexer": "ipython3",
   "version": "3.8.8"
  }
 },
 "nbformat": 4,
 "nbformat_minor": 5
}
